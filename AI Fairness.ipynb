{
 "cells": [
  {
   "cell_type": "markdown",
   "id": "72545fe1",
   "metadata": {},
   "source": [
    "### Import Libraries\n",
    "Load essential Python libraries for data handling, visualization, modeling, and fairness evaluation.\n"
   ]
  },
  {
   "cell_type": "code",
   "execution_count": 2,
   "id": "0fb375e0",
   "metadata": {},
   "outputs": [],
   "source": [
    "import pandas as pd  # For data manipulation and analysis\n",
    "import numpy as np  # For numerical computations\n",
    "import matplotlib.pyplot as plt  # For data visualization\n",
    "import seaborn as sns  # For advanced data visualization\n",
    "from sklearn.preprocessing import LabelEncoder, StandardScaler\n",
    "from sklearn.model_selection import train_test_split\n",
    "from sklearn.preprocessing import StandardScaler, OneHotEncoder\n",
    "from sklearn.impute import SimpleImputer\n",
    "from sklearn.compose import ColumnTransformer\n",
    "from sklearn.pipeline import Pipeline \n",
    "from sklearn.ensemble import RandomForestClassifier\n",
    "from sklearn.metrics import classification_report, confusion_matrix\n"
   ]
  },
  {
   "cell_type": "markdown",
   "id": "d8e607e6",
   "metadata": {},
   "source": [
    "### Load Dataset\n",
    "Import the filtered dataset and preview the first rows to confirm it loaded correctly.\n"
   ]
  },
  {
   "cell_type": "code",
   "execution_count": 3,
   "id": "2b1225b7",
   "metadata": {},
   "outputs": [
    {
     "name": "stderr",
     "output_type": "stream",
     "text": [
      "/var/folders/lv/9v04qpbn2fb537n2rxf5b7r00000gp/T/ipykernel_12693/2100472898.py:3: DtypeWarning: Columns (0,6,8,31) have mixed types. Specify dtype option on import or set low_memory=False.\n",
      "  df = pd.read_csv(\"/Users/paullucas/Desktop/Catolica/4. Trimester/AI Interpretability/Dataset/filtered_dataset.csv\")\n"
     ]
    },
    {
     "data": {
      "application/vnd.microsoft.datawrangler.viewer.v0+json": {
       "columns": [
        {
         "name": "index",
         "rawType": "int64",
         "type": "integer"
        },
        {
         "name": "raw_row_number",
         "rawType": "object",
         "type": "string"
        },
        {
         "name": "date",
         "rawType": "object",
         "type": "string"
        },
        {
         "name": "time",
         "rawType": "object",
         "type": "string"
        },
        {
         "name": "location",
         "rawType": "object",
         "type": "string"
        },
        {
         "name": "lat",
         "rawType": "float64",
         "type": "float"
        },
        {
         "name": "lng",
         "rawType": "float64",
         "type": "float"
        },
        {
         "name": "precinct",
         "rawType": "object",
         "type": "unknown"
        },
        {
         "name": "reporting_area",
         "rawType": "float64",
         "type": "float"
        },
        {
         "name": "zone",
         "rawType": "object",
         "type": "unknown"
        },
        {
         "name": "subject_age",
         "rawType": "float64",
         "type": "float"
        },
        {
         "name": "subject_race",
         "rawType": "object",
         "type": "string"
        },
        {
         "name": "subject_sex",
         "rawType": "object",
         "type": "string"
        },
        {
         "name": "officer_id_hash",
         "rawType": "object",
         "type": "string"
        },
        {
         "name": "type",
         "rawType": "object",
         "type": "string"
        },
        {
         "name": "violation",
         "rawType": "object",
         "type": "string"
        },
        {
         "name": "arrest_made",
         "rawType": "bool",
         "type": "boolean"
        },
        {
         "name": "citation_issued",
         "rawType": "bool",
         "type": "boolean"
        },
        {
         "name": "warning_issued",
         "rawType": "bool",
         "type": "boolean"
        },
        {
         "name": "outcome",
         "rawType": "object",
         "type": "string"
        },
        {
         "name": "contraband_found",
         "rawType": "object",
         "type": "unknown"
        },
        {
         "name": "contraband_drugs",
         "rawType": "object",
         "type": "unknown"
        },
        {
         "name": "contraband_weapons",
         "rawType": "object",
         "type": "unknown"
        },
        {
         "name": "frisk_performed",
         "rawType": "bool",
         "type": "boolean"
        },
        {
         "name": "search_conducted",
         "rawType": "bool",
         "type": "boolean"
        },
        {
         "name": "search_person",
         "rawType": "bool",
         "type": "boolean"
        },
        {
         "name": "search_vehicle",
         "rawType": "bool",
         "type": "boolean"
        },
        {
         "name": "search_basis",
         "rawType": "object",
         "type": "unknown"
        },
        {
         "name": "reason_for_stop",
         "rawType": "object",
         "type": "string"
        },
        {
         "name": "vehicle_registration_state",
         "rawType": "object",
         "type": "string"
        },
        {
         "name": "notes",
         "rawType": "object",
         "type": "unknown"
        },
        {
         "name": "raw_verbal_warning_issued",
         "rawType": "bool",
         "type": "boolean"
        },
        {
         "name": "raw_written_warning_issued",
         "rawType": "object",
         "type": "unknown"
        },
        {
         "name": "raw_traffic_citation_issued",
         "rawType": "bool",
         "type": "boolean"
        },
        {
         "name": "raw_misd_state_citation_issued",
         "rawType": "object",
         "type": "unknown"
        },
        {
         "name": "raw_suspect_ethnicity",
         "rawType": "object",
         "type": "string"
        },
        {
         "name": "raw_driver_searched",
         "rawType": "bool",
         "type": "boolean"
        },
        {
         "name": "raw_passenger_searched",
         "rawType": "bool",
         "type": "boolean"
        },
        {
         "name": "raw_search_consent",
         "rawType": "bool",
         "type": "boolean"
        },
        {
         "name": "raw_search_arrest",
         "rawType": "bool",
         "type": "boolean"
        },
        {
         "name": "raw_search_warrant",
         "rawType": "bool",
         "type": "boolean"
        },
        {
         "name": "raw_search_inventory",
         "rawType": "bool",
         "type": "boolean"
        },
        {
         "name": "raw_search_plain_view",
         "rawType": "bool",
         "type": "boolean"
        }
       ],
       "conversionMethod": "pd.DataFrame",
       "ref": "8633aaf3-0aee-4ab1-acd3-8c36f22b578f",
       "rows": [
        [
         "0",
         "237161",
         "2010-10-10",
         "10:00:00",
         "1122 LEBANON PIKE, NASHVILLE, TN, 37210",
         "36.155521",
         "-86.73590200000002",
         "5.0",
         "9035.0",
         "513.0",
         "18.0",
         "white",
         "male",
         "a983204b21",
         "vehicular",
         "moving traffic violation",
         "False",
         "True",
         "False",
         "citation",
         null,
         null,
         null,
         "False",
         "False",
         "False",
         "False",
         null,
         "moving traffic violation",
         "TN",
         null,
         "False",
         "False",
         "True",
         null,
         "N",
         "False",
         "False",
         "False",
         "False",
         "False",
         "False",
         "False"
        ],
        [
         "1",
         "232902",
         "2010-10-10",
         "10:00:00",
         "898 DAVIDSON DR, , TN, 37205",
         "36.1174196",
         "-86.8955929",
         "1.0",
         "5005.0",
         "121.0",
         "52.0",
         "white",
         "male",
         "f5d8fbd78b",
         "vehicular",
         "vehicle equipment violation",
         "False",
         "False",
         "True",
         "warning",
         null,
         null,
         null,
         "False",
         "False",
         "False",
         "False",
         null,
         "vehicle equipment violation",
         "TN",
         null,
         "True",
         "False",
         "False",
         null,
         "N",
         "False",
         "False",
         "False",
         "False",
         "False",
         "False",
         "False"
        ],
        [
         "2",
         "233219",
         "2010-10-10",
         "22:00:00",
         "MURFREESBORO PIKE & NASHBORO BLVD, ANTIOCH, TN, 37013",
         "36.0867994",
         "-86.6485814",
         "3.0",
         "8891.0",
         "325.0",
         "25.0",
         "white",
         "male",
         "4f1d028e45",
         "vehicular",
         "registration",
         "False",
         "False",
         "True",
         "warning",
         null,
         null,
         null,
         "False",
         "False",
         "False",
         "False",
         null,
         "registration",
         "TN",
         null,
         "True",
         "False",
         "False",
         null,
         "N",
         "False",
         "False",
         "False",
         "False",
         "False",
         "False",
         "False"
        ],
        [
         "3",
         "232748",
         "2010-10-10",
         "01:00:00",
         "N GALLATIN PIKE & EDENWOLD RD, MADISON, TN, 37115",
         "36.2868438",
         "-86.705395",
         "7.0",
         "1757.0",
         "727.0",
         "26.0",
         "white",
         "female",
         "5a96851d64",
         "vehicular",
         "moving traffic violation",
         "False",
         "False",
         "True",
         "warning",
         null,
         null,
         null,
         "False",
         "False",
         "False",
         "False",
         null,
         "moving traffic violation",
         "TN",
         null,
         "True",
         "False",
         "False",
         null,
         "N",
         "False",
         "False",
         "False",
         "False",
         "False",
         "False",
         "False"
        ],
        [
         "4",
         "232901",
         "2010-10-10",
         "10:04:00",
         "3458 DICKERSON PIKE, NASHVILLE, TN, 37207",
         "36.24438410000001",
         "-86.7628948",
         "7.0",
         "2011.0",
         "721.0",
         "33.0",
         "white",
         "male",
         "c64917c4fe",
         "vehicular",
         "seatbelt violation",
         "False",
         "False",
         "True",
         "warning",
         null,
         null,
         null,
         "False",
         "False",
         "False",
         "False",
         null,
         "seatbelt violation",
         "TN",
         null,
         "True",
         "False",
         "False",
         null,
         "N",
         "False",
         "False",
         "False",
         "False",
         "False",
         "False",
         "False"
        ]
       ],
       "shape": {
        "columns": 42,
        "rows": 5
       }
      },
      "text/html": [
       "<div>\n",
       "<style scoped>\n",
       "    .dataframe tbody tr th:only-of-type {\n",
       "        vertical-align: middle;\n",
       "    }\n",
       "\n",
       "    .dataframe tbody tr th {\n",
       "        vertical-align: top;\n",
       "    }\n",
       "\n",
       "    .dataframe thead th {\n",
       "        text-align: right;\n",
       "    }\n",
       "</style>\n",
       "<table border=\"1\" class=\"dataframe\">\n",
       "  <thead>\n",
       "    <tr style=\"text-align: right;\">\n",
       "      <th></th>\n",
       "      <th>raw_row_number</th>\n",
       "      <th>date</th>\n",
       "      <th>time</th>\n",
       "      <th>location</th>\n",
       "      <th>lat</th>\n",
       "      <th>lng</th>\n",
       "      <th>precinct</th>\n",
       "      <th>reporting_area</th>\n",
       "      <th>zone</th>\n",
       "      <th>subject_age</th>\n",
       "      <th>...</th>\n",
       "      <th>raw_traffic_citation_issued</th>\n",
       "      <th>raw_misd_state_citation_issued</th>\n",
       "      <th>raw_suspect_ethnicity</th>\n",
       "      <th>raw_driver_searched</th>\n",
       "      <th>raw_passenger_searched</th>\n",
       "      <th>raw_search_consent</th>\n",
       "      <th>raw_search_arrest</th>\n",
       "      <th>raw_search_warrant</th>\n",
       "      <th>raw_search_inventory</th>\n",
       "      <th>raw_search_plain_view</th>\n",
       "    </tr>\n",
       "  </thead>\n",
       "  <tbody>\n",
       "    <tr>\n",
       "      <th>0</th>\n",
       "      <td>237161</td>\n",
       "      <td>2010-10-10</td>\n",
       "      <td>10:00:00</td>\n",
       "      <td>1122 LEBANON PIKE, NASHVILLE, TN, 37210</td>\n",
       "      <td>36.155521</td>\n",
       "      <td>-86.735902</td>\n",
       "      <td>5.0</td>\n",
       "      <td>9035.0</td>\n",
       "      <td>513.0</td>\n",
       "      <td>18.0</td>\n",
       "      <td>...</td>\n",
       "      <td>True</td>\n",
       "      <td>NaN</td>\n",
       "      <td>N</td>\n",
       "      <td>False</td>\n",
       "      <td>False</td>\n",
       "      <td>False</td>\n",
       "      <td>False</td>\n",
       "      <td>False</td>\n",
       "      <td>False</td>\n",
       "      <td>False</td>\n",
       "    </tr>\n",
       "    <tr>\n",
       "      <th>1</th>\n",
       "      <td>232902</td>\n",
       "      <td>2010-10-10</td>\n",
       "      <td>10:00:00</td>\n",
       "      <td>898 DAVIDSON DR, , TN, 37205</td>\n",
       "      <td>36.117420</td>\n",
       "      <td>-86.895593</td>\n",
       "      <td>1.0</td>\n",
       "      <td>5005.0</td>\n",
       "      <td>121.0</td>\n",
       "      <td>52.0</td>\n",
       "      <td>...</td>\n",
       "      <td>False</td>\n",
       "      <td>NaN</td>\n",
       "      <td>N</td>\n",
       "      <td>False</td>\n",
       "      <td>False</td>\n",
       "      <td>False</td>\n",
       "      <td>False</td>\n",
       "      <td>False</td>\n",
       "      <td>False</td>\n",
       "      <td>False</td>\n",
       "    </tr>\n",
       "    <tr>\n",
       "      <th>2</th>\n",
       "      <td>233219</td>\n",
       "      <td>2010-10-10</td>\n",
       "      <td>22:00:00</td>\n",
       "      <td>MURFREESBORO PIKE &amp; NASHBORO BLVD, ANTIOCH, TN...</td>\n",
       "      <td>36.086799</td>\n",
       "      <td>-86.648581</td>\n",
       "      <td>3.0</td>\n",
       "      <td>8891.0</td>\n",
       "      <td>325.0</td>\n",
       "      <td>25.0</td>\n",
       "      <td>...</td>\n",
       "      <td>False</td>\n",
       "      <td>NaN</td>\n",
       "      <td>N</td>\n",
       "      <td>False</td>\n",
       "      <td>False</td>\n",
       "      <td>False</td>\n",
       "      <td>False</td>\n",
       "      <td>False</td>\n",
       "      <td>False</td>\n",
       "      <td>False</td>\n",
       "    </tr>\n",
       "    <tr>\n",
       "      <th>3</th>\n",
       "      <td>232748</td>\n",
       "      <td>2010-10-10</td>\n",
       "      <td>01:00:00</td>\n",
       "      <td>N GALLATIN PIKE &amp; EDENWOLD RD, MADISON, TN, 37115</td>\n",
       "      <td>36.286844</td>\n",
       "      <td>-86.705395</td>\n",
       "      <td>7.0</td>\n",
       "      <td>1757.0</td>\n",
       "      <td>727.0</td>\n",
       "      <td>26.0</td>\n",
       "      <td>...</td>\n",
       "      <td>False</td>\n",
       "      <td>NaN</td>\n",
       "      <td>N</td>\n",
       "      <td>False</td>\n",
       "      <td>False</td>\n",
       "      <td>False</td>\n",
       "      <td>False</td>\n",
       "      <td>False</td>\n",
       "      <td>False</td>\n",
       "      <td>False</td>\n",
       "    </tr>\n",
       "    <tr>\n",
       "      <th>4</th>\n",
       "      <td>232901</td>\n",
       "      <td>2010-10-10</td>\n",
       "      <td>10:04:00</td>\n",
       "      <td>3458 DICKERSON PIKE, NASHVILLE, TN, 37207</td>\n",
       "      <td>36.244384</td>\n",
       "      <td>-86.762895</td>\n",
       "      <td>7.0</td>\n",
       "      <td>2011.0</td>\n",
       "      <td>721.0</td>\n",
       "      <td>33.0</td>\n",
       "      <td>...</td>\n",
       "      <td>False</td>\n",
       "      <td>NaN</td>\n",
       "      <td>N</td>\n",
       "      <td>False</td>\n",
       "      <td>False</td>\n",
       "      <td>False</td>\n",
       "      <td>False</td>\n",
       "      <td>False</td>\n",
       "      <td>False</td>\n",
       "      <td>False</td>\n",
       "    </tr>\n",
       "  </tbody>\n",
       "</table>\n",
       "<p>5 rows × 42 columns</p>\n",
       "</div>"
      ],
      "text/plain": [
       "  raw_row_number        date      time  \\\n",
       "0         237161  2010-10-10  10:00:00   \n",
       "1         232902  2010-10-10  10:00:00   \n",
       "2         233219  2010-10-10  22:00:00   \n",
       "3         232748  2010-10-10  01:00:00   \n",
       "4         232901  2010-10-10  10:04:00   \n",
       "\n",
       "                                            location        lat        lng  \\\n",
       "0            1122 LEBANON PIKE, NASHVILLE, TN, 37210  36.155521 -86.735902   \n",
       "1                       898 DAVIDSON DR, , TN, 37205  36.117420 -86.895593   \n",
       "2  MURFREESBORO PIKE & NASHBORO BLVD, ANTIOCH, TN...  36.086799 -86.648581   \n",
       "3  N GALLATIN PIKE & EDENWOLD RD, MADISON, TN, 37115  36.286844 -86.705395   \n",
       "4          3458 DICKERSON PIKE, NASHVILLE, TN, 37207  36.244384 -86.762895   \n",
       "\n",
       "  precinct  reporting_area   zone  subject_age  ...  \\\n",
       "0      5.0          9035.0  513.0         18.0  ...   \n",
       "1      1.0          5005.0  121.0         52.0  ...   \n",
       "2      3.0          8891.0  325.0         25.0  ...   \n",
       "3      7.0          1757.0  727.0         26.0  ...   \n",
       "4      7.0          2011.0  721.0         33.0  ...   \n",
       "\n",
       "  raw_traffic_citation_issued raw_misd_state_citation_issued  \\\n",
       "0                        True                            NaN   \n",
       "1                       False                            NaN   \n",
       "2                       False                            NaN   \n",
       "3                       False                            NaN   \n",
       "4                       False                            NaN   \n",
       "\n",
       "  raw_suspect_ethnicity raw_driver_searched raw_passenger_searched  \\\n",
       "0                     N               False                  False   \n",
       "1                     N               False                  False   \n",
       "2                     N               False                  False   \n",
       "3                     N               False                  False   \n",
       "4                     N               False                  False   \n",
       "\n",
       "   raw_search_consent  raw_search_arrest  raw_search_warrant  \\\n",
       "0               False              False               False   \n",
       "1               False              False               False   \n",
       "2               False              False               False   \n",
       "3               False              False               False   \n",
       "4               False              False               False   \n",
       "\n",
       "  raw_search_inventory raw_search_plain_view  \n",
       "0                False                 False  \n",
       "1                False                 False  \n",
       "2                False                 False  \n",
       "3                False                 False  \n",
       "4                False                 False  \n",
       "\n",
       "[5 rows x 42 columns]"
      ]
     },
     "execution_count": 3,
     "metadata": {},
     "output_type": "execute_result"
    }
   ],
   "source": [
    "# Load the dataset into a pandas DataFrame\n",
    "# Load the CSV file\n",
    "df = pd.read_csv(\"/Users/paullucas/Desktop/Catolica/4. Trimester/AI Interpretability/Dataset/filtered_dataset.csv\")\n",
    "\n",
    "# Display the first few rows of the dataset to verify successful loading\n",
    "df.head()"
   ]
  },
  {
   "cell_type": "markdown",
   "id": "72afd76f",
   "metadata": {},
   "source": [
    "###  Data Preprocessing and Feature Engineering\n",
    "- Combine date and time into a timestamp and extract the stop hour.\n",
    "- Drop rows with missing race, age, or other key fields.\n",
    "- Create a binary column `is_minor` to flag subjects under 18.\n",
    "- Define the target variable (`search_conducted`) based on multiple search-related flags.\n",
    "- Prepare preprocessing pipelines for numeric and categorical features.\n"
   ]
  },
  {
   "cell_type": "code",
   "execution_count": 4,
   "id": "8b87491b",
   "metadata": {},
   "outputs": [
    {
     "name": "stdout",
     "output_type": "stream",
     "text": [
      "\n",
      "Initial dataset shape: (100000, 44)\n",
      "\n",
      "Missing values before processing:\n",
      "raw_row_number                        0\n",
      "date                                  0\n",
      "time                                  0\n",
      "location                              0\n",
      "lat                                   0\n",
      "lng                                   0\n",
      "precinct                              0\n",
      "reporting_area                        0\n",
      "zone                                  0\n",
      "subject_age                           0\n",
      "subject_race                          0\n",
      "subject_sex                           0\n",
      "officer_id_hash                       0\n",
      "type                                  0\n",
      "violation                             0\n",
      "arrest_made                           0\n",
      "citation_issued                       0\n",
      "warning_issued                        0\n",
      "outcome                               0\n",
      "contraband_found                  95756\n",
      "contraband_drugs                  95756\n",
      "contraband_weapons                95756\n",
      "frisk_performed                       0\n",
      "search_conducted                      0\n",
      "search_person                         0\n",
      "search_vehicle                        0\n",
      "search_basis                      95756\n",
      "reason_for_stop                       0\n",
      "vehicle_registration_state            0\n",
      "notes                             81947\n",
      "raw_verbal_warning_issued             0\n",
      "raw_written_warning_issued          699\n",
      "raw_traffic_citation_issued           0\n",
      "raw_misd_state_citation_issued    28058\n",
      "raw_suspect_ethnicity                 0\n",
      "raw_driver_searched                   0\n",
      "raw_passenger_searched                0\n",
      "raw_search_consent                    0\n",
      "raw_search_arrest                     0\n",
      "raw_search_warrant                    0\n",
      "raw_search_inventory                  0\n",
      "raw_search_plain_view                 0\n",
      "timestamp                             0\n",
      "stop_hour                             0\n",
      "dtype: int64\n",
      "\n",
      "Dropping rows with missing values in essential columns...\n",
      "Number of rows after dropping missing values in essential columns: 100000\n",
      "\n",
      "Processing categorical columns: ['subject_race', 'subject_sex', 'raw_suspect_ethnicity']\n",
      "\n",
      "Processed DataFrame:\n",
      "  raw_row_number        date      time  \\\n",
      "0         237161  2010-10-10  10:00:00   \n",
      "1         232902  2010-10-10  10:00:00   \n",
      "2         233219  2010-10-10  22:00:00   \n",
      "3         232748  2010-10-10  01:00:00   \n",
      "4         232901  2010-10-10  10:04:00   \n",
      "\n",
      "                                            location        lat        lng  \\\n",
      "0            1122 LEBANON PIKE, NASHVILLE, TN, 37210  36.155521 -86.735902   \n",
      "1                       898 DAVIDSON DR, , TN, 37205  36.117420 -86.895593   \n",
      "2  MURFREESBORO PIKE & NASHBORO BLVD, ANTIOCH, TN...  36.086799 -86.648581   \n",
      "3  N GALLATIN PIKE & EDENWOLD RD, MADISON, TN, 37115  36.286844 -86.705395   \n",
      "4          3458 DICKERSON PIKE, NASHVILLE, TN, 37207  36.244384 -86.762895   \n",
      "\n",
      "  precinct  reporting_area   zone  subject_age  ... raw_driver_searched  \\\n",
      "0      5.0          9035.0  513.0         18.0  ...               False   \n",
      "1      1.0          5005.0  121.0         52.0  ...               False   \n",
      "2      3.0          8891.0  325.0         25.0  ...               False   \n",
      "3      7.0          1757.0  727.0         26.0  ...               False   \n",
      "4      7.0          2011.0  721.0         33.0  ...               False   \n",
      "\n",
      "  raw_passenger_searched raw_search_consent raw_search_arrest  \\\n",
      "0                  False              False             False   \n",
      "1                  False              False             False   \n",
      "2                  False              False             False   \n",
      "3                  False              False             False   \n",
      "4                  False              False             False   \n",
      "\n",
      "  raw_search_warrant  raw_search_inventory  raw_search_plain_view  \\\n",
      "0              False                 False                  False   \n",
      "1              False                 False                  False   \n",
      "2              False                 False                  False   \n",
      "3              False                 False                  False   \n",
      "4              False                 False                  False   \n",
      "\n",
      "            timestamp stop_hour is_minor  \n",
      "0 2010-10-10 10:00:00        10        0  \n",
      "1 2010-10-10 10:00:00        10        0  \n",
      "2 2010-10-10 22:00:00        22        0  \n",
      "3 2010-10-10 01:00:00         1        0  \n",
      "4 2010-10-10 10:04:00        10        0  \n",
      "\n",
      "[5 rows x 45 columns]\n",
      "\n",
      "Processed dataset shape: (100000, 45)\n",
      "\n",
      "Missing values after processing:\n",
      "raw_row_number                        0\n",
      "date                                  0\n",
      "time                                  0\n",
      "location                              0\n",
      "lat                                   0\n",
      "lng                                   0\n",
      "precinct                              0\n",
      "reporting_area                        0\n",
      "zone                                  0\n",
      "subject_age                           0\n",
      "subject_race                          0\n",
      "subject_sex                           0\n",
      "officer_id_hash                       0\n",
      "type                                  0\n",
      "violation                             0\n",
      "arrest_made                           0\n",
      "citation_issued                       0\n",
      "warning_issued                        0\n",
      "outcome                               0\n",
      "contraband_found                  95756\n",
      "contraband_drugs                  95756\n",
      "contraband_weapons                95756\n",
      "frisk_performed                       0\n",
      "search_conducted                      0\n",
      "search_person                         0\n",
      "search_vehicle                        0\n",
      "search_basis                      95756\n",
      "reason_for_stop                       0\n",
      "vehicle_registration_state            0\n",
      "notes                             81947\n",
      "raw_verbal_warning_issued             0\n",
      "raw_written_warning_issued          699\n",
      "raw_traffic_citation_issued           0\n",
      "raw_misd_state_citation_issued    28058\n",
      "raw_suspect_ethnicity                 0\n",
      "raw_driver_searched                   0\n",
      "raw_passenger_searched                0\n",
      "raw_search_consent                    0\n",
      "raw_search_arrest                     0\n",
      "raw_search_warrant                    0\n",
      "raw_search_inventory                  0\n",
      "raw_search_plain_view                 0\n",
      "timestamp                             0\n",
      "stop_hour                             0\n",
      "is_minor                              0\n",
      "dtype: int64\n",
      "\n",
      "Distribution of search_conducted (target variable):\n",
      "search_conducted\n",
      "0    0.95822\n",
      "1    0.04178\n",
      "Name: proportion, dtype: float64\n",
      "Search conducted distribution (train):\n",
      "\n",
      "Search rates by race (full dataset):\n",
      "subject_race\n",
      "asian/pacific islander    0.030827\n",
      "black                     0.054979\n",
      "hispanic                  0.062014\n",
      "white                     0.030812\n",
      "Name: search_conducted, dtype: float64\n",
      "\n",
      "Search rates by sex (full dataset):\n",
      "subject_sex\n",
      "female    0.022661\n",
      "male      0.055087\n",
      "Name: search_conducted, dtype: float64\n"
     ]
    },
    {
     "name": "stderr",
     "output_type": "stream",
     "text": [
      "/var/folders/lv/9v04qpbn2fb537n2rxf5b7r00000gp/T/ipykernel_12693/2247778806.py:90: FutureWarning: The default of observed=False is deprecated and will be changed to True in a future version of pandas. Pass observed=False to retain current behavior or observed=True to adopt the future default and silence this warning.\n",
      "  print(df.groupby('subject_race')['search_conducted'].mean())\n",
      "/var/folders/lv/9v04qpbn2fb537n2rxf5b7r00000gp/T/ipykernel_12693/2247778806.py:92: FutureWarning: The default of observed=False is deprecated and will be changed to True in a future version of pandas. Pass observed=False to retain current behavior or observed=True to adopt the future default and silence this warning.\n",
      "  print(df.groupby('subject_sex')['search_conducted'].mean())\n"
     ]
    }
   ],
   "source": [
    "# Create datetime column\n",
    "df['timestamp'] = pd.to_datetime(df['date'] + ' ' + df['time'])\n",
    "df['stop_hour'] = df['timestamp'].dt.hour\n",
    "\n",
    "# Print initial dataset info\n",
    "print(\"\\nInitial dataset shape:\", df.shape)\n",
    "print(\"\\nMissing values before processing:\")\n",
    "print(df.isnull().sum())\n",
    "\n",
    "# Define essential columns that cannot have missing values\n",
    "essential_columns = ['subject_race', 'subject_age', 'stop_hour']\n",
    "\n",
    "# Drop rows with missing values only in essential columns\n",
    "print(\"\\nDropping rows with missing values in essential columns...\")\n",
    "df = df.dropna(subset=essential_columns)\n",
    "print(f\"Number of rows after dropping missing values in essential columns: {len(df)}\")\n",
    "\n",
    "# Convert categorical variables to categorical dtype and handle missing values\n",
    "categorical_columns = ['subject_race', 'subject_sex', 'raw_suspect_ethnicity']\n",
    "print(\"\\nProcessing categorical columns:\", categorical_columns)\n",
    "\n",
    "for col in categorical_columns:\n",
    "    # Add 'unknown' category if the column has missing values\n",
    "    if df[col].isnull().any():\n",
    "        categories = df[col].dropna().unique().tolist()\n",
    "        categories.append('unknown')\n",
    "        df[col] = pd.Categorical(df[col], categories=categories)\n",
    "        df[col] = df[col].fillna('unknown')\n",
    "    else:\n",
    "        df[col] = df[col].astype('category')\n",
    "\n",
    "# Create new columns\n",
    "df['is_minor'] = (df['subject_age'] < 18).astype(int)\n",
    "\n",
    "# Create search_conducted column (combining different types of searches)\n",
    "# A search is considered conducted if any of the search flags are True\n",
    "df['search_conducted'] = (\n",
    "    df['raw_driver_searched'] |\n",
    "    df['raw_passenger_searched'] |\n",
    "    df['raw_search_consent'] |\n",
    "    df['raw_search_arrest'] |\n",
    "    df['raw_search_warrant'] |\n",
    "    df['raw_search_inventory'] |\n",
    "    df['raw_search_plain_view']\n",
    ").astype(int)\n",
    "\n",
    "# Define features and target\n",
    "features = ['subject_age', 'stop_hour', 'is_minor'] + categorical_columns\n",
    "target = 'search_conducted'\n",
    "X = df[features]\n",
    "y = df[target]\n",
    "\n",
    "# Define preprocessing\n",
    "numeric_features = ['subject_age', 'stop_hour']\n",
    "categorical_features = ['subject_race', 'subject_sex', 'raw_suspect_ethnicity']\n",
    "\n",
    "numeric_transformer = Pipeline(steps=[\n",
    "    ('imputer', SimpleImputer(strategy='median')),\n",
    "    ('scaler', StandardScaler())\n",
    "])\n",
    "\n",
    "categorical_transformer = Pipeline(steps=[\n",
    "    ('imputer', SimpleImputer(strategy='constant', fill_value='unknown')),\n",
    "    ('onehot', OneHotEncoder(drop='first', handle_unknown='ignore'))\n",
    "])\n",
    "\n",
    "preprocessor = ColumnTransformer(transformers=[\n",
    "    ('num', numeric_transformer, numeric_features),\n",
    "    ('cat', categorical_transformer, categorical_features)\n",
    "], remainder='passthrough')  # Keeps 'is_minor'\n",
    "\n",
    "# ------------------------------\n",
    "# 🔍 Show results\n",
    "# ------------------------------\n",
    "\n",
    "# Display the first few rows of the processed DataFrame\n",
    "print(\"\\nProcessed DataFrame:\")\n",
    "print(df.head())\n",
    "# Display the shape of the processed DataFrame\n",
    "print(\"\\nProcessed dataset shape:\", df.shape)\n",
    "# Display the number of missing values after processing\n",
    "print(\"\\nMissing values after processing:\")\n",
    "print(df.isnull().sum())\n",
    "# Display the distribution of the target variable\n",
    "print(\"\\nDistribution of search_conducted (target variable):\")\n",
    "print(df['search_conducted'].value_counts(normalize=True))\n",
    "# Display the distribution of the target variable by \n",
    "print(\"Search conducted distribution (train):\")\n",
    "print(\"\\nSearch rates by race (full dataset):\")\n",
    "print(df.groupby('subject_race')['search_conducted'].mean())\n",
    "print(\"\\nSearch rates by sex (full dataset):\")\n",
    "print(df.groupby('subject_sex')['search_conducted'].mean())"
   ]
  },
  {
   "cell_type": "markdown",
   "id": "0642f473",
   "metadata": {},
   "source": [
    "### Visualize search distribution and define disparity metrics\n",
    "- Plot the overall distribution of `search_conducted` to understand class imbalance.\n",
    "- Calculate total stops, searches, and search rate.\n",
    "- Define a reusable function `calculate_disparities()` to compute group-level search rates and disparity metrics (ratio and absolute gap).\n",
    "- Apply the function to evaluate disparities by race and by sex.\n"
   ]
  },
  {
   "cell_type": "code",
   "execution_count": 5,
   "id": "86835d84",
   "metadata": {},
   "outputs": [
    {
     "name": "stderr",
     "output_type": "stream",
     "text": [
      "/var/folders/lv/9v04qpbn2fb537n2rxf5b7r00000gp/T/ipykernel_12693/1257614995.py:7: FutureWarning: \n",
      "\n",
      "Passing `palette` without assigning `hue` is deprecated and will be removed in v0.14.0. Assign the `x` variable to `hue` and set `legend=False` for the same effect.\n",
      "\n",
      "  sns.countplot(x='search_conducted', data=df, palette='Set2')\n"
     ]
    },
    {
     "data": {
      "image/png": "[encoded data removed]",
      "text/plain": [
       "<Figure size 1200x600 with 1 Axes>"
      ]
     },
     "metadata": {},
     "output_type": "display_data"
    },
    {
     "name": "stdout",
     "output_type": "stream",
     "text": [
      "\n",
      "Overall Search Statistics:\n",
      "Total stops: 100,000\n",
      "Total searches: 4,178\n",
      "Overall search rate: 4.18%\n",
      "\n",
      "Racial Disparities in Search Rates:\n",
      "\n",
      "Search rates by race:\n",
      "                        total_stops  total_searches  search_rate\n",
      "subject_race                                                    \n",
      "hispanic                       5144             319       0.0620\n",
      "black                         38742            2130       0.0550\n",
      "asian/pacific islander         1330              41       0.0308\n",
      "white                         54784            1688       0.0308\n",
      "\n",
      "Racial disparity ratio: 2.01\n",
      "Absolute percentage point gap: 3.12%\n",
      "\n",
      "Gender Disparities in Search Rates:\n",
      "\n",
      "Search rates by sex:\n",
      "             total_stops  total_searches  search_rate\n",
      "subject_sex                                          \n",
      "male               58961            3248       0.0551\n",
      "female             41039             930       0.0227\n",
      "\n",
      "Gender disparity ratio: 2.43\n",
      "Absolute percentage point gap: 3.24%\n"
     ]
    },
    {
     "name": "stderr",
     "output_type": "stream",
     "text": [
      "/var/folders/lv/9v04qpbn2fb537n2rxf5b7r00000gp/T/ipykernel_12693/1257614995.py:31: FutureWarning: The default of observed=False is deprecated and will be changed to True in a future version of pandas. Pass observed=False to retain current behavior or observed=True to adopt the future default and silence this warning.\n",
      "  group_stats = df.groupby(group_col).agg({\n",
      "/var/folders/lv/9v04qpbn2fb537n2rxf5b7r00000gp/T/ipykernel_12693/1257614995.py:31: FutureWarning: The default of observed=False is deprecated and will be changed to True in a future version of pandas. Pass observed=False to retain current behavior or observed=True to adopt the future default and silence this warning.\n",
      "  group_stats = df.groupby(group_col).agg({\n"
     ]
    }
   ],
   "source": [
    "# Set style for better visualizations\n",
    "plt.style.use('default')  # Using default matplotlib style\n",
    "\n",
    "# Set the figure size for all plots\n",
    "plt.figure(figsize=(12, 6))\n",
    "# Plot the distribution of search_conducted\n",
    "sns.countplot(x='search_conducted', data=df, palette='Set2')\n",
    "plt.title('Distribution of Search Conducted')\n",
    "plt.xlabel('Search Conducted')\n",
    "plt.ylabel('Count')\n",
    "plt.xticks([0, 1], ['No Search', 'Search'])\n",
    "plt.show()\n",
    "\n",
    "# Handle missing values in demographic columns\n",
    "if df['subject_sex'].isnull().any():\n",
    "    df['subject_sex'] = df['subject_sex'].fillna('Unknown')\n",
    "\n",
    "# Calculate overall search statistics\n",
    "total_stops = len(df)\n",
    "total_searches = df['search_conducted'].sum()\n",
    "search_rate = total_searches / total_stops\n",
    "\n",
    "print(\"\\nOverall Search Statistics:\")\n",
    "print(f\"Total stops: {total_stops:,}\")\n",
    "print(f\"Total searches: {total_searches:,}\")\n",
    "print(f\"Overall search rate: {search_rate:.2%}\")\n",
    "\n",
    "# Function to calculate disparity metrics\n",
    "def calculate_disparities(df, group_col):\n",
    "    # Calculate search rates by group\n",
    "    group_stats = df.groupby(group_col).agg({\n",
    "        'search_conducted': ['count', 'sum', 'mean']\n",
    "    }).round(4)\n",
    "    \n",
    "    group_stats.columns = ['total_stops', 'total_searches', 'search_rate']\n",
    "    group_stats = group_stats.sort_values('search_rate', ascending=False)\n",
    "    \n",
    "    # Calculate disparity metrics\n",
    "    max_rate = group_stats['search_rate'].max()\n",
    "    min_rate = group_stats['search_rate'].min()\n",
    "    disparity_ratio = max_rate / min_rate if min_rate > 0 else float('inf')\n",
    "    absolute_gap = max_rate - min_rate\n",
    "    \n",
    "    return group_stats, disparity_ratio, absolute_gap\n",
    "\n",
    "# Analyze racial disparities\n",
    "print(\"\\nRacial Disparities in Search Rates:\")\n",
    "race_stats, race_ratio, race_gap = calculate_disparities(df, 'subject_race')\n",
    "print(\"\\nSearch rates by race:\")\n",
    "print(race_stats)\n",
    "print(f\"\\nRacial disparity ratio: {race_ratio:.2f}\")\n",
    "print(f\"Absolute percentage point gap: {race_gap:.2%}\")\n",
    "\n",
    "# Analyze gender disparities\n",
    "print(\"\\nGender Disparities in Search Rates:\")\n",
    "sex_stats, sex_ratio, sex_gap = calculate_disparities(df, 'subject_sex')\n",
    "print(\"\\nSearch rates by sex:\")\n",
    "print(sex_stats)\n",
    "print(f\"\\nGender disparity ratio: {sex_ratio:.2f}\")\n",
    "print(f\"Absolute percentage point gap: {sex_gap:.2%}\")\n",
    "\n"
   ]
  },
  {
   "cell_type": "markdown",
   "id": "4d48469f",
   "metadata": {},
   "source": [
    "### Compute and visualize racial disparities in search outcomes\n",
    "- Clean and format the `subject_race` column.\n",
    "- Calculate search, hit, and arrest rates for four major racial groups.\n",
    "- Plot total stops, search rate, hit rate, and arrest rate side-by-side for visual comparison.\n"
   ]
  },
  {
   "cell_type": "code",
   "execution_count": 6,
   "id": "aa5304fd",
   "metadata": {},
   "outputs": [
    {
     "name": "stderr",
     "output_type": "stream",
     "text": [
      "/var/folders/lv/9v04qpbn2fb537n2rxf5b7r00000gp/T/ipykernel_12693/1531889131.py:49: FutureWarning: \n",
      "\n",
      "Passing `palette` without assigning `hue` is deprecated and will be removed in v0.14.0. Assign the `x` variable to `hue` and set `legend=False` for the same effect.\n",
      "\n",
      "  sns.barplot(\n",
      "/var/folders/lv/9v04qpbn2fb537n2rxf5b7r00000gp/T/ipykernel_12693/1531889131.py:60: FutureWarning: \n",
      "\n",
      "Passing `palette` without assigning `hue` is deprecated and will be removed in v0.14.0. Assign the `x` variable to `hue` and set `legend=False` for the same effect.\n",
      "\n",
      "  sns.barplot(\n",
      "/var/folders/lv/9v04qpbn2fb537n2rxf5b7r00000gp/T/ipykernel_12693/1531889131.py:71: FutureWarning: \n",
      "\n",
      "Passing `palette` without assigning `hue` is deprecated and will be removed in v0.14.0. Assign the `x` variable to `hue` and set `legend=False` for the same effect.\n",
      "\n",
      "  sns.barplot(\n",
      "/var/folders/lv/9v04qpbn2fb537n2rxf5b7r00000gp/T/ipykernel_12693/1531889131.py:82: FutureWarning: \n",
      "\n",
      "Passing `palette` without assigning `hue` is deprecated and will be removed in v0.14.0. Assign the `x` variable to `hue` and set `legend=False` for the same effect.\n",
      "\n",
      "  sns.barplot(\n"
     ]
    },
    {
     "data": {
      "image/png": "[encoded data removed]",
      "text/plain": [
       "<Figure size 2400x600 with 4 Axes>"
      ]
     },
     "metadata": {},
     "output_type": "display_data"
    }
   ],
   "source": [
    "import pandas as pd\n",
    "import seaborn as sns\n",
    "import matplotlib.pyplot as plt\n",
    "\n",
    "\n",
    "\n",
    "# 2. Clean & lowercase the race column\n",
    "df = df.dropna(subset=[\"subject_race\"])\n",
    "df[\"subject_race\"] = df[\"subject_race\"].str.lower()\n",
    "\n",
    "# 3. Define the four groups we care about\n",
    "groups = [\"white\", \"black\", \"hispanic\", \"asian/pacific islander\"]\n",
    "\n",
    "# 4. Compute totals, searches, hits, and arrests per group\n",
    "summary = []\n",
    "for grp in groups:\n",
    "    sub = df[df[\"subject_race\"] == grp]\n",
    "    total    = len(sub)\n",
    "    searched = sub[\"search_conducted\"].sum()\n",
    "    hits     = sub[\"contraband_found\"].sum()\n",
    "    arrested = sub[\"raw_search_arrest\"].sum()\n",
    "\n",
    "    # rates (as percentages)\n",
    "    search_rate = (searched / total) * 100 if total else 0\n",
    "    hit_rate    = (hits / searched) * 100    if searched else 0\n",
    "    arrest_rate = (arrested / searched) * 100 if searched else 0\n",
    "\n",
    "    summary.append({\n",
    "        \"Group\": grp.title(),\n",
    "        \"Search Rate\": search_rate,\n",
    "        \"Hit Rate\": hit_rate,\n",
    "        \"Arrest Rate\": arrest_rate\n",
    "    })\n",
    "\n",
    "comparison_table = pd.DataFrame(summary)\n",
    "\n",
    "# 5. Compute total stops per race\n",
    "stop_counts = (\n",
    "    df[df[\"subject_race\"].isin(groups)][\"subject_race\"]\n",
    "    .value_counts()\n",
    "    .reindex(groups)\n",
    ")\n",
    "stop_counts.index = [g.title() for g in stop_counts.index]\n",
    "\n",
    "# 6. Plot all four metrics side by side\n",
    "fig, axes = plt.subplots(1, 4, figsize=(24, 6))\n",
    "\n",
    "# Total Stops\n",
    "sns.barplot(\n",
    "    x=stop_counts.index,\n",
    "    y=stop_counts.values,\n",
    "    ax=axes[0],\n",
    "    palette=\"Purples\"\n",
    ")\n",
    "axes[0].set_title(\"Total Stops by Race\")\n",
    "axes[0].set_xlabel(\"Race\")\n",
    "axes[0].set_ylabel(\"Number of Stops\")\n",
    "\n",
    "# Search Rate\n",
    "sns.barplot(\n",
    "    x=\"Group\",\n",
    "    y=\"Search Rate\",\n",
    "    data=comparison_table,\n",
    "    ax=axes[1],\n",
    "    palette=\"Blues\"\n",
    ")\n",
    "axes[1].set_title(\"Search Rate by Race\")\n",
    "axes[1].set_ylabel(\"Search Rate (%)\")\n",
    "\n",
    "# Hit Rate\n",
    "sns.barplot(\n",
    "    x=\"Group\",\n",
    "    y=\"Hit Rate\",\n",
    "    data=comparison_table,\n",
    "    ax=axes[2],\n",
    "    palette=\"Oranges\"\n",
    ")\n",
    "axes[2].set_title(\"Hit Rate by Race\")\n",
    "axes[2].set_ylabel(\"Hit Rate (%)\")\n",
    "\n",
    "# Arrest Rate\n",
    "sns.barplot(\n",
    "    x=\"Group\",\n",
    "    y=\"Arrest Rate\",\n",
    "    data=comparison_table,\n",
    "    ax=axes[3],\n",
    "    palette=\"Greens\"\n",
    ")\n",
    "axes[3].set_title(\"Arrest Rate by Race\")\n",
    "axes[3].set_ylabel(\"Arrest Rate (%)\")\n",
    "\n",
    "plt.tight_layout()\n",
    "plt.show()"
   ]
  },
  {
   "cell_type": "markdown",
   "id": "a2902327",
   "metadata": {},
   "source": [
    "### Compute and visualize gender disparities in search outcomes\n",
    "- Clean and standardize the `subject_sex` column.\n",
    "- Calculate and visualize total stops, search rate, hit rate, and arrest rate for male and female drivers.\n"
   ]
  },
  {
   "cell_type": "code",
   "execution_count": 7,
   "id": "8817572f",
   "metadata": {},
   "outputs": [
    {
     "name": "stderr",
     "output_type": "stream",
     "text": [
      "/var/folders/lv/9v04qpbn2fb537n2rxf5b7r00000gp/T/ipykernel_12693/1878866631.py:17: FutureWarning: Downcasting object dtype arrays on .fillna, .ffill, .bfill is deprecated and will change in a future version. Call result.infer_objects(copy=False) instead. To opt-in to the future behavior, set `pd.set_option('future.no_silent_downcasting', True)`\n",
      "  .mean().reindex(sexes).fillna(0) * 100\n",
      "/var/folders/lv/9v04qpbn2fb537n2rxf5b7r00000gp/T/ipykernel_12693/1878866631.py:25: FutureWarning: \n",
      "\n",
      "Passing `palette` without assigning `hue` is deprecated and will be removed in v0.14.0. Assign the `x` variable to `hue` and set `legend=False` for the same effect.\n",
      "\n",
      "  sns.barplot(x=labels, y=stop_counts.values, palette=\"Purples\", ax=axes[0])\n",
      "/var/folders/lv/9v04qpbn2fb537n2rxf5b7r00000gp/T/ipykernel_12693/1878866631.py:31: FutureWarning: \n",
      "\n",
      "Passing `palette` without assigning `hue` is deprecated and will be removed in v0.14.0. Assign the `x` variable to `hue` and set `legend=False` for the same effect.\n",
      "\n",
      "  sns.barplot(x=labels, y=search_rate.values, palette=\"Blues\", ax=axes[1])\n",
      "/var/folders/lv/9v04qpbn2fb537n2rxf5b7r00000gp/T/ipykernel_12693/1878866631.py:37: FutureWarning: \n",
      "\n",
      "Passing `palette` without assigning `hue` is deprecated and will be removed in v0.14.0. Assign the `x` variable to `hue` and set `legend=False` for the same effect.\n",
      "\n",
      "  sns.barplot(x=labels, y=hit_rate.values, palette=\"Oranges\", ax=axes[2])\n",
      "/var/folders/lv/9v04qpbn2fb537n2rxf5b7r00000gp/T/ipykernel_12693/1878866631.py:43: FutureWarning: \n",
      "\n",
      "Passing `palette` without assigning `hue` is deprecated and will be removed in v0.14.0. Assign the `x` variable to `hue` and set `legend=False` for the same effect.\n",
      "\n",
      "  sns.barplot(x=labels, y=arrest_rate.values, palette=\"Greens\", ax=axes[3])\n"
     ]
    },
    {
     "data": {
      "image/png": "[encoded data removed]",
      "text/plain": [
       "<Figure size 2000x500 with 4 Axes>"
      ]
     },
     "metadata": {},
     "output_type": "display_data"
    }
   ],
   "source": [
    "# 2. Clean & lowercase the sex column\n",
    "df = df.dropna(subset=[\"subject_sex\"])\n",
    "df[\"subject_sex\"] = df[\"subject_sex\"].str.lower()\n",
    "\n",
    "# 3. Define the two sex categories in the order you want\n",
    "sexes = [\"male\", \"female\"]\n",
    "labels = [s.title() for s in sexes]\n",
    "\n",
    "# 4. Compute metrics by sex\n",
    "# (a) Total stops (absolute count)\n",
    "stop_counts = df[\"subject_sex\"].value_counts().reindex(sexes).fillna(0).astype(int)\n",
    "\n",
    "# (b) Rates (as percentages)\n",
    "search_rate = df.groupby(\"subject_sex\")[\"search_conducted\"] \\\n",
    "                .mean().reindex(sexes).fillna(0) * 100\n",
    "hit_rate    = df.groupby(\"subject_sex\")[\"contraband_found\"] \\\n",
    "                .mean().reindex(sexes).fillna(0) * 100\n",
    "arrest_rate = df.groupby(\"subject_sex\")[\"raw_search_arrest\"] \\\n",
    "                .mean().reindex(sexes).fillna(0) * 100\n",
    "\n",
    "# 5. Plot in a 1×4 grid\n",
    "fig, axes = plt.subplots(1, 4, figsize=(20, 5))\n",
    "\n",
    "# Total Stops\n",
    "sns.barplot(x=labels, y=stop_counts.values, palette=\"Purples\", ax=axes[0])\n",
    "axes[0].set_title(\"Total Stops by Sex\")\n",
    "axes[0].set_xlabel(\"Sex\")\n",
    "axes[0].set_ylabel(\"Number of Stops\")\n",
    "\n",
    "# Search Rate (%)\n",
    "sns.barplot(x=labels, y=search_rate.values, palette=\"Blues\", ax=axes[1])\n",
    "axes[1].set_title(\"Search Rate by Sex\")\n",
    "axes[1].set_xlabel(\"Sex\")\n",
    "axes[1].set_ylabel(\"Search Rate (%)\")\n",
    "\n",
    "# Hit Rate (%)\n",
    "sns.barplot(x=labels, y=hit_rate.values, palette=\"Oranges\", ax=axes[2])\n",
    "axes[2].set_title(\"Hit Rate by Sex\")\n",
    "axes[2].set_xlabel(\"Sex\")\n",
    "axes[2].set_ylabel(\"Hit Rate (%)\")\n",
    "\n",
    "# Arrest Rate (%)\n",
    "sns.barplot(x=labels, y=arrest_rate.values, palette=\"Greens\", ax=axes[3])\n",
    "axes[3].set_title(\"Arrest Rate by Sex\")\n",
    "axes[3].set_xlabel(\"Sex\")\n",
    "axes[3].set_ylabel(\"Arrest Rate (%)\")\n",
    "\n",
    "plt.tight_layout()\n",
    "plt.show()"
   ]
  },
  {
   "cell_type": "markdown",
   "id": "d1f5073f",
   "metadata": {},
   "source": [
    "### Plot searched stops on a geographic map by race\n",
    "- Clean and normalize column names.\n",
    "- Filter to stops within the Nashville area where a search was conducted.\n",
    "- Plot a 2x2 Mapbox grid showing the geographic distribution of stops for four racial groups.\n",
    "- This spatial analysis helps visualize whether certain racial groups are being searched more in specific areas.\n"
   ]
  },
  {
   "cell_type": "code",
   "execution_count": 8,
   "id": "ef51bf32",
   "metadata": {},
   "outputs": [
    {
     "name": "stderr",
     "output_type": "stream",
     "text": [
      "/var/folders/lv/9v04qpbn2fb537n2rxf5b7r00000gp/T/ipykernel_12693/15297580.py:41: DeprecationWarning:\n",
      "\n",
      "*scattermapbox* is deprecated! Use *scattermap* instead. Learn more at: https://plotly.com/python/mapbox-to-maplibre/\n",
      "\n"
     ]
    },
    {
     "data": {
      "application/vnd.plotly.v1+json": {
       "config": {
        "plotlyServerURL": "https://plot.ly"
       },
       "data": [
        {
         "lat": {
          "bdata": "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",
          "dtype": "f8"
         },
         "lon": {
          "bdata": "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",
          "dtype": "f8"
         },
         "marker": {
          "color": "blue",
          "size": 5
         },
         "mode": "markers",
         "showlegend": false,
         "subplot": "mapbox",
         "type": "scattermapbox"
        },
        {
         "lat": {
          "bdata": "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",
          "dtype": "f8"
         },
         "lon": {
          "bdata": "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",
          "dtype": "f8"
         },
         "marker": {
          "color": "orange",
          "size": 5
         },
         "mode": "markers",
         "showlegend": false,
         "subplot": "mapbox2",
         "type": "scattermapbox"
        },
        {
         "lat": {
          "bdata": "6N7DJccTQkA7Vik90x1CQMSldPqLE0JArB+b5EcaQkCEgefewwpCQHpn/uJjD0JAn2/6aZIPQkDvvhnr0RRCQBEmezoNEEJAESZ7Og0QQkBISh9f5w1CQDkkWpe/D0JAMi/RapISQkD+EgIDUhdCQEpUuZqGF0JA6NGe3AAaQkBZuFEJ9AtCQEEIbd7dE0JAYFlpUgoQQkD+IaI9AwVCQA52eSkrB0JAbgxLTcwQQkBIJGXmXQpCQGjRls7iBUJAMnVXdsEIQkDKUuv9RhRCQJwYkpOJEUJA++5WlugOQkAVnLCz1xNCQHHE/8KXE0JAJUETvHwFQkCDaoMT0QhCQA0oikYtFUJATmlY53MJQkAkOD8P/whCQPkB/t/HCUJA4VLfQ9MKQkBDTePN0BtCQEYMlkW8BkJAw7ZFmQ0IQkCYO4564whCQA==",
          "dtype": "f8"
         },
         "lon": {
          "bdata": "yoUUTTG0VcAl07L/S7FVwPaNQ1hosFXAPQ6D+SuvVcDKQJ5dvqxVwBvxZDezr1XAveiGAaazVcC7T0R1qbFVwNpII7CDr1XA2kgjsIOvVcAmpTT2ALtVwK5bqQyIr1XA3H0z1iOyVcCkXYWUH7RVwMjnBCPlr1XAFftwNVesVcD8enTZHq9VwAN0TqKUtlXAvQrfsY6zVcCSONDoM7JVwMfKeRDMrVXAWsAVmjWtVcCI469/DbBVwOyRvCkbqlXAohaDh2msVcBMWHYcmrJVwH3C2a1lrlXAoM/bM6asVcDc0g+PabVVwItUcxR7uFXADXygcNGmVcAuqdpugqtVwFhxqrUwsVXAG+eAbnm7VcBL3L6iNq5VwAsRgTQtrlXAxmzJqgitVcB2SUFcXqxVwAlLK3QUq1XA2k2VlOCtVcDCElm1NaxVwA==",
          "dtype": "f8"
         },
         "marker": {
          "color": "green",
          "size": 5
         },
         "mode": "markers",
         "showlegend": false,
         "subplot": "mapbox3",
         "type": "scattermapbox"
        },
        {
         "lat": {
          "bdata": "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",
          "dtype": "f8"
         },
         "lon": {
          "bdata": "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",
          "dtype": "f8"
         },
         "marker": {
          "color": "red",
          "size": 5
         },
         "mode": "markers",
         "showlegend": false,
         "subplot": "mapbox4",
         "type": "scattermapbox"
        }
       ],
       "layout": {
        "annotations": [
         {
          "font": {
           "size": 16
          },
          "showarrow": false,
          "text": "Black",
          "x": 0.25,
          "xref": "paper",
          "y": 1.05,
          "yref": "paper"
         },
         {
          "font": {
           "size": 16
          },
          "showarrow": false,
          "text": "Hispanic",
          "x": 0.75,
          "xref": "paper",
          "y": 1.05,
          "yref": "paper"
         },
         {
          "font": {
           "size": 16
          },
          "showarrow": false,
          "text": "Asian/Pacific Islander",
          "x": 0.25,
          "xref": "paper",
          "y": -0.05,
          "yref": "paper"
         },
         {
          "font": {
           "size": 16
          },
          "showarrow": false,
          "text": "White",
          "x": 0.75,
          "xref": "paper",
          "y": -0.05,
          "yref": "paper"
         }
        ],
        "height": 840,
        "mapbox": {
         "center": {
          "lat": 36.1627,
          "lon": -86.7816
         },
         "domain": {
          "x": [
           0,
           0.5
          ],
          "y": [
           0.5,
           1
          ]
         },
         "style": "carto-positron",
         "zoom": 11
        },
        "mapbox2": {
         "center": {
          "lat": 36.1627,
          "lon": -86.7816
         },
         "domain": {
          "x": [
           0.5,
           1
          ],
          "y": [
           0.5,
           1
          ]
         },
         "style": "carto-positron",
         "zoom": 11
        },
        "mapbox3": {
         "center": {
          "lat": 36.1627,
          "lon": -86.7816
         },
         "domain": {
          "x": [
           0,
           0.5
          ],
          "y": [
           0,
           0.5
          ]
         },
         "style": "carto-positron",
         "zoom": 11
        },
        "mapbox4": {
         "center": {
          "lat": 36.1627,
          "lon": -86.7816
         },
         "domain": {
          "x": [
           0.5,
           1
          ],
          "y": [
           0,
           0.5
          ]
         },
         "style": "carto-positron",
         "zoom": 11
        },
        "margin": {
         "b": 100,
         "l": 0,
         "r": 0,
         "t": 40
        },
        "shapes": [
         {
          "fillcolor": "rgba(0,0,0,0)",
          "line": {
           "color": "black",
           "width": 2
          },
          "type": "rect",
          "x0": 0,
          "x1": 0.5,
          "xref": "paper",
          "y0": 0.5,
          "y1": 1,
          "yref": "paper"
         },
         {
          "fillcolor": "rgba(0,0,0,0)",
          "line": {
           "color": "black",
           "width": 2
          },
          "type": "rect",
          "x0": 0.5,
          "x1": 1,
          "xref": "paper",
          "y0": 0.5,
          "y1": 1,
          "yref": "paper"
         },
         {
          "fillcolor": "rgba(0,0,0,0)",
          "line": {
           "color": "black",
           "width": 2
          },
          "type": "rect",
          "x0": 0,
          "x1": 0.5,
          "xref": "paper",
          "y0": 0,
          "y1": 0.5,
          "yref": "paper"
         },
         {
          "fillcolor": "rgba(0,0,0,0)",
          "line": {
           "color": "black",
           "width": 2
          },
          "type": "rect",
          "x0": 0.5,
          "x1": 1,
          "xref": "paper",
          "y0": 0,
          "y1": 0.5,
          "yref": "paper"
         },
         {
          "line": {
           "color": "black",
           "width": 2
          },
          "type": "line",
          "x0": 0.5,
          "x1": 0.5,
          "xref": "paper",
          "y0": 0,
          "y1": 1,
          "yref": "paper"
         },
         {
          "line": {
           "color": "black",
           "width": 2
          },
          "type": "line",
          "x0": 0,
          "x1": 1,
          "xref": "paper",
          "y0": 0.5,
          "y1": 0.5,
          "yref": "paper"
         }
        ],
        "template": {
         "data": {
          "bar": [
           {
            "error_x": {
             "color": "#2a3f5f"
            },
            "error_y": {
             "color": "#2a3f5f"
            },
            "marker": {
             "line": {
              "color": "#E5ECF6",
              "width": 0.5
             },
             "pattern": {
              "fillmode": "overlay",
              "size": 10,
              "solidity": 0.2
             }
            },
            "type": "bar"
           }
          ],
          "barpolar": [
           {
            "marker": {
             "line": {
              "color": "#E5ECF6",
              "width": 0.5
             },
             "pattern": {
              "fillmode": "overlay",
              "size": 10,
              "solidity": 0.2
             }
            },
            "type": "barpolar"
           }
          ],
          "carpet": [
           {
            "aaxis": {
             "endlinecolor": "#2a3f5f",
             "gridcolor": "white",
             "linecolor": "white",
             "minorgridcolor": "white",
             "startlinecolor": "#2a3f5f"
            },
            "baxis": {
             "endlinecolor": "#2a3f5f",
             "gridcolor": "white",
             "linecolor": "white",
             "minorgridcolor": "white",
             "startlinecolor": "#2a3f5f"
            },
            "type": "carpet"
           }
          ],
          "choropleth": [
           {
            "colorbar": {
             "outlinewidth": 0,
             "ticks": ""
            },
            "type": "choropleth"
           }
          ],
          "contour": [
           {
            "colorbar": {
             "outlinewidth": 0,
             "ticks": ""
            },
            "colorscale": [
             [
              0,
              "#0d0887"
             ],
             [
              0.1111111111111111,
              "#46039f"
             ],
             [
              0.2222222222222222,
              "#7201a8"
             ],
             [
              0.3333333333333333,
              "#9c179e"
             ],
             [
              0.4444444444444444,
              "#bd3786"
             ],
             [
              0.5555555555555556,
              "#d8576b"
             ],
             [
              0.6666666666666666,
              "#ed7953"
             ],
             [
              0.7777777777777778,
              "#fb9f3a"
             ],
             [
              0.8888888888888888,
              "#fdca26"
             ],
             [
              1,
              "#f0f921"
             ]
            ],
            "type": "contour"
           }
          ],
          "contourcarpet": [
           {
            "colorbar": {
             "outlinewidth": 0,
             "ticks": ""
            },
            "type": "contourcarpet"
           }
          ],
          "heatmap": [
           {
            "colorbar": {
             "outlinewidth": 0,
             "ticks": ""
            },
            "colorscale": [
             [
              0,
              "#0d0887"
             ],
             [
              0.1111111111111111,
              "#46039f"
             ],
             [
              0.2222222222222222,
              "#7201a8"
             ],
             [
              0.3333333333333333,
              "#9c179e"
             ],
             [
              0.4444444444444444,
              "#bd3786"
             ],
             [
              0.5555555555555556,
              "#d8576b"
             ],
             [
              0.6666666666666666,
              "#ed7953"
             ],
             [
              0.7777777777777778,
              "#fb9f3a"
             ],
             [
              0.8888888888888888,
              "#fdca26"
             ],
             [
              1,
              "#f0f921"
             ]
            ],
            "type": "heatmap"
           }
          ],
          "histogram": [
           {
            "marker": {
             "pattern": {
              "fillmode": "overlay",
              "size": 10,
              "solidity": 0.2
             }
            },
            "type": "histogram"
           }
          ],
          "histogram2d": [
           {
            "colorbar": {
             "outlinewidth": 0,
             "ticks": ""
            },
            "colorscale": [
             [
              0,
              "#0d0887"
             ],
             [
              0.1111111111111111,
              "#46039f"
             ],
             [
              0.2222222222222222,
              "#7201a8"
             ],
             [
              0.3333333333333333,
              "#9c179e"
             ],
             [
              0.4444444444444444,
              "#bd3786"
             ],
             [
              0.5555555555555556,
              "#d8576b"
             ],
             [
              0.6666666666666666,
              "#ed7953"
             ],
             [
              0.7777777777777778,
              "#fb9f3a"
             ],
             [
              0.8888888888888888,
              "#fdca26"
             ],
             [
              1,
              "#f0f921"
             ]
            ],
            "type": "histogram2d"
           }
          ],
          "histogram2dcontour": [
           {
            "colorbar": {
             "outlinewidth": 0,
             "ticks": ""
            },
            "colorscale": [
             [
              0,
              "#0d0887"
             ],
             [
              0.1111111111111111,
              "#46039f"
             ],
             [
              0.2222222222222222,
              "#7201a8"
             ],
             [
              0.3333333333333333,
              "#9c179e"
             ],
             [
              0.4444444444444444,
              "#bd3786"
             ],
             [
              0.5555555555555556,
              "#d8576b"
             ],
             [
              0.6666666666666666,
              "#ed7953"
             ],
             [
              0.7777777777777778,
              "#fb9f3a"
             ],
             [
              0.8888888888888888,
              "#fdca26"
             ],
             [
              1,
              "#f0f921"
             ]
            ],
            "type": "histogram2dcontour"
           }
          ],
          "mesh3d": [
           {
            "colorbar": {
             "outlinewidth": 0,
             "ticks": ""
            },
            "type": "mesh3d"
           }
          ],
          "parcoords": [
           {
            "line": {
             "colorbar": {
              "outlinewidth": 0,
              "ticks": ""
             }
            },
            "type": "parcoords"
           }
          ],
          "pie": [
           {
            "automargin": true,
            "type": "pie"
           }
          ],
          "scatter": [
           {
            "fillpattern": {
             "fillmode": "overlay",
             "size": 10,
             "solidity": 0.2
            },
            "type": "scatter"
           }
          ],
          "scatter3d": [
           {
            "line": {
             "colorbar": {
              "outlinewidth": 0,
              "ticks": ""
             }
            },
            "marker": {
             "colorbar": {
              "outlinewidth": 0,
              "ticks": ""
             }
            },
            "type": "scatter3d"
           }
          ],
          "scattercarpet": [
           {
            "marker": {
             "colorbar": {
              "outlinewidth": 0,
              "ticks": ""
             }
            },
            "type": "scattercarpet"
           }
          ],
          "scattergeo": [
           {
            "marker": {
             "colorbar": {
              "outlinewidth": 0,
              "ticks": ""
             }
            },
            "type": "scattergeo"
           }
          ],
          "scattergl": [
           {
            "marker": {
             "colorbar": {
              "outlinewidth": 0,
              "ticks": ""
             }
            },
            "type": "scattergl"
           }
          ],
          "scattermap": [
           {
            "marker": {
             "colorbar": {
              "outlinewidth": 0,
              "ticks": ""
             }
            },
            "type": "scattermap"
           }
          ],
          "scattermapbox": [
           {
            "marker": {
             "colorbar": {
              "outlinewidth": 0,
              "ticks": ""
             }
            },
            "type": "scattermapbox"
           }
          ],
          "scatterpolar": [
           {
            "marker": {
             "colorbar": {
              "outlinewidth": 0,
              "ticks": ""
             }
            },
            "type": "scatterpolar"
           }
          ],
          "scatterpolargl": [
           {
            "marker": {
             "colorbar": {
              "outlinewidth": 0,
              "ticks": ""
             }
            },
            "type": "scatterpolargl"
           }
          ],
          "scatterternary": [
           {
            "marker": {
             "colorbar": {
              "outlinewidth": 0,
              "ticks": ""
             }
            },
            "type": "scatterternary"
           }
          ],
          "surface": [
           {
            "colorbar": {
             "outlinewidth": 0,
             "ticks": ""
            },
            "colorscale": [
             [
              0,
              "#0d0887"
             ],
             [
              0.1111111111111111,
              "#46039f"
             ],
             [
              0.2222222222222222,
              "#7201a8"
             ],
             [
              0.3333333333333333,
              "#9c179e"
             ],
             [
              0.4444444444444444,
              "#bd3786"
             ],
             [
              0.5555555555555556,
              "#d8576b"
             ],
             [
              0.6666666666666666,
              "#ed7953"
             ],
             [
              0.7777777777777778,
              "#fb9f3a"
             ],
             [
              0.8888888888888888,
              "#fdca26"
             ],
             [
              1,
              "#f0f921"
             ]
            ],
            "type": "surface"
           }
          ],
          "table": [
           {
            "cells": {
             "fill": {
              "color": "#EBF0F8"
             },
             "line": {
              "color": "white"
             }
            },
            "header": {
             "fill": {
              "color": "#C8D4E3"
             },
             "line": {
              "color": "white"
             }
            },
            "type": "table"
           }
          ]
         },
         "layout": {
          "annotationdefaults": {
           "arrowcolor": "#2a3f5f",
           "arrowhead": 0,
           "arrowwidth": 1
          },
          "autotypenumbers": "strict",
          "coloraxis": {
           "colorbar": {
            "outlinewidth": 0,
            "ticks": ""
           }
          },
          "colorscale": {
           "diverging": [
            [
             0,
             "#8e0152"
            ],
            [
             0.1,
             "#c51b7d"
            ],
            [
             0.2,
             "#de77ae"
            ],
            [
             0.3,
             "#f1b6da"
            ],
            [
             0.4,
             "#fde0ef"
            ],
            [
             0.5,
             "#f7f7f7"
            ],
            [
             0.6,
             "#e6f5d0"
            ],
            [
             0.7,
             "#b8e186"
            ],
            [
             0.8,
             "#7fbc41"
            ],
            [
             0.9,
             "#4d9221"
            ],
            [
             1,
             "#276419"
            ]
           ],
           "sequential": [
            [
             0,
             "#0d0887"
            ],
            [
             0.1111111111111111,
             "#46039f"
            ],
            [
             0.2222222222222222,
             "#7201a8"
            ],
            [
             0.3333333333333333,
             "#9c179e"
            ],
            [
             0.4444444444444444,
             "#bd3786"
            ],
            [
             0.5555555555555556,
             "#d8576b"
            ],
            [
             0.6666666666666666,
             "#ed7953"
            ],
            [
             0.7777777777777778,
             "#fb9f3a"
            ],
            [
             0.8888888888888888,
             "#fdca26"
            ],
            [
             1,
             "#f0f921"
            ]
           ],
           "sequentialminus": [
            [
             0,
             "#0d0887"
            ],
            [
             0.1111111111111111,
             "#46039f"
            ],
            [
             0.2222222222222222,
             "#7201a8"
            ],
            [
             0.3333333333333333,
             "#9c179e"
            ],
            [
             0.4444444444444444,
             "#bd3786"
            ],
            [
             0.5555555555555556,
             "#d8576b"
            ],
            [
             0.6666666666666666,
             "#ed7953"
            ],
            [
             0.7777777777777778,
             "#fb9f3a"
            ],
            [
             0.8888888888888888,
             "#fdca26"
            ],
            [
             1,
             "#f0f921"
            ]
           ]
          },
          "colorway": [
           "#636efa",
           "#EF553B",
           "#00cc96",
           "#ab63fa",
           "#FFA15A",
           "#19d3f3",
           "#FF6692",
           "#B6E880",
           "#FF97FF",
           "#FECB52"
          ],
          "font": {
           "color": "#2a3f5f"
          },
          "geo": {
           "bgcolor": "white",
           "lakecolor": "white",
           "landcolor": "#E5ECF6",
           "showlakes": true,
           "showland": true,
           "subunitcolor": "white"
          },
          "hoverlabel": {
           "align": "left"
          },
          "hovermode": "closest",
          "mapbox": {
           "style": "light"
          },
          "paper_bgcolor": "white",
          "plot_bgcolor": "#E5ECF6",
          "polar": {
           "angularaxis": {
            "gridcolor": "white",
            "linecolor": "white",
            "ticks": ""
           },
           "bgcolor": "#E5ECF6",
           "radialaxis": {
            "gridcolor": "white",
            "linecolor": "white",
            "ticks": ""
           }
          },
          "scene": {
           "xaxis": {
            "backgroundcolor": "#E5ECF6",
            "gridcolor": "white",
            "gridwidth": 2,
            "linecolor": "white",
            "showbackground": true,
            "ticks": "",
            "zerolinecolor": "white"
           },
           "yaxis": {
            "backgroundcolor": "#E5ECF6",
            "gridcolor": "white",
            "gridwidth": 2,
            "linecolor": "white",
            "showbackground": true,
            "ticks": "",
            "zerolinecolor": "white"
           },
           "zaxis": {
            "backgroundcolor": "#E5ECF6",
            "gridcolor": "white",
            "gridwidth": 2,
            "linecolor": "white",
            "showbackground": true,
            "ticks": "",
            "zerolinecolor": "white"
           }
          },
          "shapedefaults": {
           "line": {
            "color": "#2a3f5f"
           }
          },
          "ternary": {
           "aaxis": {
            "gridcolor": "white",
            "linecolor": "white",
            "ticks": ""
           },
           "baxis": {
            "gridcolor": "white",
            "linecolor": "white",
            "ticks": ""
           },
           "bgcolor": "#E5ECF6",
           "caxis": {
            "gridcolor": "white",
            "linecolor": "white",
            "ticks": ""
           }
          },
          "title": {
           "x": 0.05
          },
          "xaxis": {
           "automargin": true,
           "gridcolor": "white",
           "linecolor": "white",
           "ticks": "",
           "title": {
            "standoff": 15
           },
           "zerolinecolor": "white",
           "zerolinewidth": 2
          },
          "yaxis": {
           "automargin": true,
           "gridcolor": "white",
           "linecolor": "white",
           "ticks": "",
           "title": {
            "standoff": 15
           },
           "zerolinecolor": "white",
           "zerolinewidth": 2
          }
         }
        },
        "width": 1000
       }
      }
     },
     "metadata": {},
     "output_type": "display_data"
    }
   ],
   "source": [
    "\n",
    "import plotly.graph_objects as go\n",
    "from plotly.subplots import make_subplots\n",
    "\n",
    "# Remove the '#' from column names and make them lowercase\n",
    "df.columns = df.columns.str.strip().str.lower().str.replace(\"#\", \"\").str.strip()\n",
    "\n",
    "# Now you can safely drop rows with missing coordinates\n",
    "df = df.dropna(subset=[\"lat\", \"lng\"])\n",
    "\n",
    "df[\"subject_race\"] = df[\"subject_race\"].str.lower()\n",
    "\n",
    "# 2. Filter to Nashville + only stops where a search was conducted\n",
    "nash_searched = df[\n",
    "    df[\"lat\"].between(36.0, 36.3) &\n",
    "    df[\"lng\"].between(-87.0, -86.5) &\n",
    "    (df[\"search_conducted\"] == True)\n",
    "]\n",
    "\n",
    "# 3. Define races and colors\n",
    "races = {\n",
    "    \"Black\": (\"black\", \"blue\"),\n",
    "    \"Hispanic\": (\"hispanic\", \"orange\"),\n",
    "    \"Asian/Pacific Islander\": (\"asian/pacific islander\", \"green\"),\n",
    "    \"White\": (\"white\", \"red\")\n",
    "}\n",
    "\n",
    "# 4. Create 2×2 mapbox grid\n",
    "fig = make_subplots(\n",
    "    rows=2, cols=2,\n",
    "    specs=[\n",
    "        [{\"type\":\"scattermapbox\"}, {\"type\":\"scattermapbox\"}],\n",
    "        [{\"type\":\"scattermapbox\"}, {\"type\":\"scattermapbox\"}]\n",
    "    ]\n",
    ")\n",
    "\n",
    "# 5. Plot each race\n",
    "positions = [(1,1),(1,2),(2,1),(2,2)]\n",
    "for (label,(race_val,color)),(r,c) in zip(races.items(), positions):\n",
    "    df_r = nash_searched[nash_searched[\"subject_race\"] == race_val]\n",
    "    fig.add_trace(\n",
    "        go.Scattermapbox(\n",
    "            lat=df_r[\"lat\"],\n",
    "            lon=df_r[\"lng\"],\n",
    "            mode=\"markers\",\n",
    "            marker=dict(size=5, color=color),\n",
    "            showlegend=False\n",
    "        ),\n",
    "        row=r, col=c\n",
    "    )\n",
    "\n",
    "# 6. Common map settings\n",
    "common_map = dict(center={\"lat\":36.1627,\"lon\":-86.7816}, zoom=11, style=\"carto-positron\")\n",
    "\n",
    "# 7. Draw just borders and divider lines\n",
    "shapes = []\n",
    "# Borders\n",
    "for x0, x1, y0, y1 in [(0,0.5,0.5,1),(0.5,1,0.5,1),(0,0.5,0,0.5),(0.5,1,0,0.5)]:\n",
    "    shapes.append(dict(\n",
    "        type=\"rect\", x0=x0, x1=x1, y0=y0, y1=y1,\n",
    "        xref=\"paper\", yref=\"paper\",\n",
    "        fillcolor=\"rgba(0,0,0,0)\", line=dict(color=\"black\", width=2)\n",
    "    ))\n",
    "# Dividers\n",
    "shapes += [\n",
    "    dict(type=\"line\", x0=0.5, y0=0,   x1=0.5, y1=1,   xref=\"paper\", yref=\"paper\",\n",
    "         line=dict(color=\"black\", width=2)),\n",
    "    dict(type=\"line\", x0=0,   y0=0.5, x1=1,   y1=0.5, xref=\"paper\", yref=\"paper\",\n",
    "         line=dict(color=\"black\", width=2))\n",
    "]\n",
    "\n",
    "# 8. Move labels further out\n",
    "annotations = [\n",
    "    # Top row, pushed up to 1.05\n",
    "    dict(x=0.25, y=1.05, xref=\"paper\", yref=\"paper\",\n",
    "         text=\"Black\", showarrow=False, font=dict(size=16)),\n",
    "    dict(x=0.75, y=1.05, xref=\"paper\", yref=\"paper\",\n",
    "         text=\"Hispanic\", showarrow=False, font=dict(size=16)),\n",
    "    # Bottom row, pushed down to -0.05\n",
    "    dict(x=0.25, y=-0.05, xref=\"paper\", yref=\"paper\",\n",
    "         text=\"Asian/Pacific Islander\", showarrow=False, font=dict(size=16)),\n",
    "    dict(x=0.75, y=-0.05, xref=\"paper\", yref=\"paper\",\n",
    "         text=\"White\", showarrow=False, font=dict(size=16)),\n",
    "]\n",
    "\n",
    "# 9. Final layout\n",
    "fig.update_layout(\n",
    "    mapbox1={**common_map, \"domain\":{\"x\":[0,0.5],\"y\":[0.5,1]}},\n",
    "    mapbox2={**common_map, \"domain\":{\"x\":[0.5,1],\"y\":[0.5,1]}},\n",
    "    mapbox3={**common_map, \"domain\":{\"x\":[0,0.5],\"y\":[0,0.5]}},\n",
    "    mapbox4={**common_map, \"domain\":{\"x\":[0.5,1],\"y\":[0,0.5]}},\n",
    "\n",
    "    height=840, width=1000,\n",
    "    margin=dict(l=0, r=0, t=40, b=100),  # extra bottom space\n",
    "\n",
    "    shapes=shapes,\n",
    "    annotations=annotations,\n",
    "\n",
    "   \n",
    ")\n",
    "\n",
    "fig.show()"
   ]
  },
  {
   "cell_type": "markdown",
   "id": "9ab7adee",
   "metadata": {},
   "source": [
    "### Visualize number of stops and search rates by race\n",
    "- Exclude \"other\" and \"unknown\" races for clearer analysis.\n",
    "- Create a dual-axis plot: bar chart for number of stops and line plot for search rate per race.\n",
    "- This helps compare both volume and disparity of searches across racial groups.\n"
   ]
  },
  {
   "cell_type": "code",
   "execution_count": 10,
   "id": "dcf88b95",
   "metadata": {},
   "outputs": [
    {
     "data": {
      "image/png": "[encoded data removed]",
      "text/plain": [
       "<Figure size 1000x600 with 2 Axes>"
      ]
     },
     "metadata": {},
     "output_type": "display_data"
    }
   ],
   "source": [
    "# Exclude \"other\" and \"unknown\" from the dataset\n",
    "filtered_df = df[~df['subject_race'].isin(['other', 'unknown'])]\n",
    "\n",
    "# Sort stop_counts and align search_rates accordingly\n",
    "stop_counts = filtered_df['subject_race'].value_counts().sort_values(ascending=False)\n",
    "search_rates = filtered_df.groupby('subject_race')['search_conducted'].mean().loc[stop_counts.index]\n",
    "\n",
    "# Create a figure with two y-axes\n",
    "fig, ax1 = plt.subplots(figsize=(10, 6))\n",
    "\n",
    "# Bar plot for stop counts\n",
    "color = 'tab:blue'\n",
    "ax1.set_xlabel('Race')\n",
    "ax1.set_ylabel('Number of Stops', color=color)\n",
    "bars = ax1.bar(stop_counts.index, stop_counts.values, color=color, alpha=0.6, label='Number of Stops')\n",
    "ax1.tick_params(axis='y', labelcolor=color)\n",
    "\n",
    "# Add value labels to bars\n",
    "for bar in bars:\n",
    "    height = bar.get_height()\n",
    "    ax1.annotate(f'{height:,}', xy=(bar.get_x() + bar.get_width() / 2, height),\n",
    "                 xytext=(0, 3), textcoords=\"offset points\", ha='center', va='bottom', fontsize=9)\n",
    "\n",
    "# Line plot for search rates\n",
    "ax2 = ax1.twinx()\n",
    "color = 'tab:red'\n",
    "ax2.set_ylabel('Search Rate (%)', color=color)\n",
    "line = ax2.plot(search_rates.index, search_rates.values * 100, color=color, marker='o', label='Search Rate (%)')\n",
    "ax2.tick_params(axis='y', labelcolor=color)\n",
    "\n",
    "# Add value labels to line plot\n",
    "for i, rate in enumerate(search_rates.values):\n",
    "    ax2.annotate(f'{rate*100:.2f}%', xy=(i, rate*100), xytext=(0, 8), textcoords=\"offset points\",\n",
    "                 ha='center', va='bottom', color=color, fontsize=9)\n",
    "\n",
    "# Title and layout\n",
    "plt.title('Number of Stops and Search Rates by Race (Excluding Other and Unknown)')\n",
    "fig.tight_layout()\n",
    "plt.show()"
   ]
  },
  {
   "cell_type": "markdown",
   "id": "b0e09963",
   "metadata": {},
   "source": [
    "# Build the Model\n",
    "# First we will use the EBM model"
   ]
  },
  {
   "cell_type": "markdown",
   "id": "d1f980a6",
   "metadata": {},
   "source": [
    "### Import modeling and interpretability tools\n",
    "- Import machine learning tools: EBM, Random Forest, OneHotEncoder, imputers, etc.\n",
    "- These will be used for fairness modeling, training interpretable models, and evaluating results.\n",
    "- Also includes imports from the `interpret` library for model explainability.\n"
   ]
  },
  {
   "cell_type": "markdown",
   "id": "0cb0367e",
   "metadata": {},
   "source": [
    "### Train Explainable Boosting Machine (EBM) on balanced dataset\n",
    "- Select five key features and define the binary target (`raw_driver_searched`).\n",
    "- Split data into training and test sets.\n",
    "- Apply one-hot encoding to categorical variables and retain numerical features.\n",
    "- Use oversampling (RandomOverSampler) to balance the target classes in the training data.\n",
    "- Define and fit a pipeline consisting of preprocessing and an EBM model.\n",
    "- EBM is selected for its interpretability and performance on tabular data.\n"
   ]
  },
  {
   "cell_type": "code",
   "execution_count": 48,
   "id": "0e2a5e18",
   "metadata": {},
   "outputs": [
    {
     "name": "stderr",
     "output_type": "stream",
     "text": [
      "/Library/Frameworks/Python.framework/Versions/3.12/lib/python3.12/site-packages/sklearn/preprocessing/_encoders.py:246: UserWarning:\n",
      "\n",
      "Found unknown categories in columns [3] during transform. These unknown categories will be encoded as all zeros\n",
      "\n"
     ]
    }
   ],
   "source": [
    "# Run preprocessor manually\n",
    "X_train_transformed = preprocessor.transform(X_train)\n",
    "X_test_transformed = preprocessor.transform(X_test)\n",
    "\n",
    "# If it's sparse, convert to dense\n",
    "if hasattr(X_train_transformed, \"toarray\"):\n",
    "    X_train_transformed = X_train_transformed.toarray()\n",
    "    X_test_transformed = X_test_transformed.toarray()\n"
   ]
  },
  {
   "cell_type": "code",
   "execution_count": 11,
   "id": "0934e3ba",
   "metadata": {},
   "outputs": [],
   "source": [
    "from interpret.glassbox import ExplainableBoostingClassifier\n",
    "from interpret import show\n",
    "from interpret import set_visualize_provider\n",
    "from sklearn.pipeline import Pipeline\n",
    "from sklearn.compose import ColumnTransformer\n",
    "from sklearn.preprocessing import OneHotEncoder\n",
    "from sklearn.impute import SimpleImputer\n",
    "from sklearn.ensemble import RandomForestClassifier\n",
    "from sklearn.model_selection import train_test_split\n",
    "from sklearn.metrics import classification_report, confusion_matrix\n",
    "from sklearn.metrics import accuracy_score, f1_score, roc_auc_score, RocCurveDisplay\n",
    "from sklearn.metrics import roc_curve, auc\n",
    "from sklearn.utils.class_weight import compute_sample_weight\n"
   ]
  },
  {
   "cell_type": "markdown",
   "id": "0a51b7f1",
   "metadata": {},
   "source": [
    "### Train Logistic Regression and assess fairness by race\n",
    "- Build a pipeline with preprocessing and logistic regression (class-weight balanced).\n",
    "- Fit the model on training data and generate predictions.\n",
    "- Use `MetricFrame` to compute fairness metrics (accuracy, selection rate, TPR, FPR) by race.\n",
    "- Print group-specific performance to identify disparities across racial groups.\n",
    "\n",
    "### Prepare a reusable baseline logistic regression pipeline\n",
    "- Define features and train-test split.\n",
    "- Ensure all categorical variables are strings for encoding.\n",
    "- Set up a `ColumnTransformer` and a logistic regression model with class balancing.\n",
    "- Package everything into a scikit-learn `Pipeline` for consistency and reuse.\n"
   ]
  },
  {
   "cell_type": "markdown",
   "id": "da5e8793",
   "metadata": {},
   "source": [
    "Although EBM was initially considered due to its interpretability advantages, we encountered technical and performance limitations during training. Therefore, we proceeded with Logistic Regression, which remains a well-established and interpretable baseline for fairness analysis.\n"
   ]
  },
  {
   "cell_type": "code",
   "execution_count": null,
   "id": "88818664",
   "metadata": {},
   "outputs": [
    {
     "name": "stdout",
     "output_type": "stream",
     "text": [
      "                        accuracy  selection_rate       TPR       FPR\n",
      "subject_race                                                        \n",
      "asian/pacific islander  0.805419        0.192118  0.461538  0.183206\n",
      "black                   0.539642        0.488883  0.821359  0.473442\n",
      "hispanic                0.437980        0.608696  0.974026  0.589778\n",
      "white                   0.778644        0.220504  0.480663  0.214641\n"
     ]
    },
    {
     "name": "stderr",
     "output_type": "stream",
     "text": [
      "/Library/Frameworks/Python.framework/Versions/3.12/lib/python3.12/site-packages/sklearn/preprocessing/_encoders.py:246: UserWarning:\n",
      "\n",
      "Found unknown categories in columns [3] during transform. These unknown categories will be encoded as all zeros\n",
      "\n"
     ]
    }
   ],
   "source": [
    "from sklearn.linear_model import LogisticRegression\n",
    "from sklearn.model_selection import train_test_split\n",
    "from sklearn.pipeline import Pipeline\n",
    "from sklearn.compose import ColumnTransformer\n",
    "from sklearn.preprocessing import OneHotEncoder\n",
    "from sklearn.metrics import accuracy_score\n",
    "from fairlearn.metrics import MetricFrame, selection_rate, true_positive_rate, false_positive_rate\n",
    "import pandas as pd\n",
    "\n",
    "# 1. Prepare data\n",
    "features = ['subject_race', 'subject_sex', 'subject_age', 'precinct', 'zone']\n",
    "X = df[features].copy()\n",
    "y = df['raw_driver_searched']\n",
    "\n",
    "X_train, X_test, y_train, y_test = train_test_split(X, y, test_size=0.3, random_state=42)\n",
    "\n",
    "# Force categoricals to string\n",
    "categorical = ['subject_race', 'subject_sex', 'precinct', 'zone']\n",
    "numeric = ['subject_age']\n",
    "for col in categorical:\n",
    "    X_train[col] = X_train[col].astype(str)\n",
    "    X_test[col] = X_test[col].astype(str)\n",
    "\n",
    "# Preprocessing\n",
    "preprocessor = ColumnTransformer(\n",
    "    transformers=[\n",
    "        ('cat', OneHotEncoder(drop='first', handle_unknown='ignore'), categorical),\n",
    "        ('num', 'passthrough', numeric)\n",
    "    ]\n",
    ")\n",
    "\n",
    "# Model\n",
    "model = Pipeline(steps=[\n",
    "    ('preprocessor', preprocessor),\n",
    "    ('classifier', LogisticRegression(class_weight='balanced', max_iter=1000))\n",
    "])\n",
    "\n",
    "# Fit\n",
    "model.fit(X_train, y_train)\n",
    "\n",
    "# Predict\n",
    "y_pred = model.predict(X_test)\n",
    "\n",
    "# Evaluate fairness\n",
    "metric_frame = MetricFrame(\n",
    "    metrics={\n",
    "        'accuracy': accuracy_score,\n",
    "        'selection_rate': selection_rate,\n",
    "        'TPR': true_positive_rate,\n",
    "        'FPR': false_positive_rate\n",
    "    },\n",
    "    y_true=y_test,\n",
    "    y_pred=y_pred,\n",
    "    sensitive_features=X_test['subject_race']\n",
    ")\n",
    "\n",
    "print(metric_frame.by_group)\n"
   ]
  },
  {
   "cell_type": "code",
   "execution_count": null,
   "id": "40f4dbe9",
   "metadata": {},
   "outputs": [],
   "source": [
    "from sklearn.model_selection import train_test_split\n",
    "from sklearn.pipeline import Pipeline\n",
    "from sklearn.compose import ColumnTransformer\n",
    "from sklearn.preprocessing import OneHotEncoder\n",
    "from sklearn.linear_model import LogisticRegression\n",
    "\n",
    "# Define features and target\n",
    "features = ['subject_race', 'subject_sex', 'subject_age', 'precinct', 'zone']\n",
    "X = df[features].copy()\n",
    "y = df['raw_driver_searched']\n",
    "\n",
    "# Train/test split\n",
    "X_train, X_test, y_train, y_test = train_test_split(X, y, test_size=0.3, random_state=42)\n",
    "\n",
    "# Ensure categorical columns are strings\n",
    "categorical = ['subject_race', 'subject_sex', 'precinct', 'zone']\n",
    "numeric = ['subject_age']\n",
    "for col in categorical:\n",
    "    X_train[col] = X_train[col].astype(str)\n",
    "    X_test[col] = X_test[col].astype(str)\n",
    "\n",
    "# Preprocessor\n",
    "preprocessor = ColumnTransformer(\n",
    "    transformers=[\n",
    "        ('cat', OneHotEncoder(drop='first', handle_unknown='ignore'), categorical),\n",
    "        ('num', 'passthrough', numeric)\n",
    "    ]\n",
    ")\n",
    "\n",
    "# Pipeline\n",
    "base_pipeline = Pipeline(steps=[\n",
    "    ('preprocessor', preprocessor),\n",
    "    ('classifier', LogisticRegression(class_weight='balanced', max_iter=1000))\n",
    "])\n"
   ]
  },
  {
   "cell_type": "markdown",
   "id": "79ee9fae",
   "metadata": {},
   "source": [
    "### Train logistic regression with hyperparameter tuning\n",
    "- Perform a grid search to optimize the regularization strength `C` for the logistic regression model.\n",
    "- Use 5-fold cross-validation and accuracy as the evaluation metric.\n",
    "- Select the best model and generate predictions on the test set.\n",
    "- Logistic regression was chosen due to its interpretability and reliable performance.\n"
   ]
  },
  {
   "cell_type": "code",
   "execution_count": null,
   "id": "1eefd94e",
   "metadata": {},
   "outputs": [
    {
     "name": "stderr",
     "output_type": "stream",
     "text": [
      "/Library/Frameworks/Python.framework/Versions/3.12/lib/python3.12/site-packages/sklearn/preprocessing/_encoders.py:246: UserWarning:\n",
      "\n",
      "Found unknown categories in columns [3] during transform. These unknown categories will be encoded as all zeros\n",
      "\n",
      "/Library/Frameworks/Python.framework/Versions/3.12/lib/python3.12/site-packages/sklearn/preprocessing/_encoders.py:246: UserWarning:\n",
      "\n",
      "Found unknown categories in columns [3] during transform. These unknown categories will be encoded as all zeros\n",
      "\n",
      "/Library/Frameworks/Python.framework/Versions/3.12/lib/python3.12/site-packages/sklearn/preprocessing/_encoders.py:246: UserWarning:\n",
      "\n",
      "Found unknown categories in columns [3] during transform. These unknown categories will be encoded as all zeros\n",
      "\n",
      "/Library/Frameworks/Python.framework/Versions/3.12/lib/python3.12/site-packages/sklearn/preprocessing/_encoders.py:246: UserWarning:\n",
      "\n",
      "Found unknown categories in columns [3] during transform. These unknown categories will be encoded as all zeros\n",
      "\n",
      "/Library/Frameworks/Python.framework/Versions/3.12/lib/python3.12/site-packages/sklearn/preprocessing/_encoders.py:246: UserWarning:\n",
      "\n",
      "Found unknown categories in columns [3] during transform. These unknown categories will be encoded as all zeros\n",
      "\n",
      "/Library/Frameworks/Python.framework/Versions/3.12/lib/python3.12/site-packages/sklearn/preprocessing/_encoders.py:246: UserWarning:\n",
      "\n",
      "Found unknown categories in columns [3] during transform. These unknown categories will be encoded as all zeros\n",
      "\n",
      "/Library/Frameworks/Python.framework/Versions/3.12/lib/python3.12/site-packages/sklearn/preprocessing/_encoders.py:246: UserWarning:\n",
      "\n",
      "Found unknown categories in columns [3] during transform. These unknown categories will be encoded as all zeros\n",
      "\n",
      "/Library/Frameworks/Python.framework/Versions/3.12/lib/python3.12/site-packages/sklearn/preprocessing/_encoders.py:246: UserWarning:\n",
      "\n",
      "Found unknown categories in columns [3] during transform. These unknown categories will be encoded as all zeros\n",
      "\n",
      "/Library/Frameworks/Python.framework/Versions/3.12/lib/python3.12/site-packages/sklearn/preprocessing/_encoders.py:246: UserWarning:\n",
      "\n",
      "Found unknown categories in columns [3] during transform. These unknown categories will be encoded as all zeros\n",
      "\n",
      "/Library/Frameworks/Python.framework/Versions/3.12/lib/python3.12/site-packages/sklearn/preprocessing/_encoders.py:246: UserWarning:\n",
      "\n",
      "Found unknown categories in columns [3] during transform. These unknown categories will be encoded as all zeros\n",
      "\n",
      "/Library/Frameworks/Python.framework/Versions/3.12/lib/python3.12/site-packages/sklearn/preprocessing/_encoders.py:246: UserWarning:\n",
      "\n",
      "Found unknown categories in columns [3] during transform. These unknown categories will be encoded as all zeros\n",
      "\n",
      "/Library/Frameworks/Python.framework/Versions/3.12/lib/python3.12/site-packages/sklearn/preprocessing/_encoders.py:246: UserWarning:\n",
      "\n",
      "Found unknown categories in columns [3] during transform. These unknown categories will be encoded as all zeros\n",
      "\n",
      "/Library/Frameworks/Python.framework/Versions/3.12/lib/python3.12/site-packages/sklearn/preprocessing/_encoders.py:246: UserWarning:\n",
      "\n",
      "Found unknown categories in columns [3] during transform. These unknown categories will be encoded as all zeros\n",
      "\n",
      "/Library/Frameworks/Python.framework/Versions/3.12/lib/python3.12/site-packages/sklearn/preprocessing/_encoders.py:246: UserWarning:\n",
      "\n",
      "Found unknown categories in columns [3] during transform. These unknown categories will be encoded as all zeros\n",
      "\n",
      "/Library/Frameworks/Python.framework/Versions/3.12/lib/python3.12/site-packages/sklearn/preprocessing/_encoders.py:246: UserWarning:\n",
      "\n",
      "Found unknown categories in columns [3] during transform. These unknown categories will be encoded as all zeros\n",
      "\n",
      "/Library/Frameworks/Python.framework/Versions/3.12/lib/python3.12/site-packages/sklearn/preprocessing/_encoders.py:246: UserWarning:\n",
      "\n",
      "Found unknown categories in columns [3] during transform. These unknown categories will be encoded as all zeros\n",
      "\n",
      "/Library/Frameworks/Python.framework/Versions/3.12/lib/python3.12/site-packages/sklearn/preprocessing/_encoders.py:246: UserWarning:\n",
      "\n",
      "Found unknown categories in columns [3] during transform. These unknown categories will be encoded as all zeros\n",
      "\n",
      "/Library/Frameworks/Python.framework/Versions/3.12/lib/python3.12/site-packages/sklearn/preprocessing/_encoders.py:246: UserWarning:\n",
      "\n",
      "Found unknown categories in columns [3] during transform. These unknown categories will be encoded as all zeros\n",
      "\n",
      "/Library/Frameworks/Python.framework/Versions/3.12/lib/python3.12/site-packages/sklearn/linear_model/_logistic.py:465: ConvergenceWarning:\n",
      "\n",
      "lbfgs failed to converge (status=1):\n",
      "STOP: TOTAL NO. OF ITERATIONS REACHED LIMIT.\n",
      "\n",
      "Increase the number of iterations (max_iter) or scale the data as shown in:\n",
      "    https://scikit-learn.org/stable/modules/preprocessing.html\n",
      "Please also refer to the documentation for alternative solver options:\n",
      "    https://scikit-learn.org/stable/modules/linear_model.html#logistic-regression\n",
      "\n",
      "/Library/Frameworks/Python.framework/Versions/3.12/lib/python3.12/site-packages/sklearn/preprocessing/_encoders.py:246: UserWarning:\n",
      "\n",
      "Found unknown categories in columns [3] during transform. These unknown categories will be encoded as all zeros\n",
      "\n",
      "/Library/Frameworks/Python.framework/Versions/3.12/lib/python3.12/site-packages/sklearn/preprocessing/_encoders.py:246: UserWarning:\n",
      "\n",
      "Found unknown categories in columns [3] during transform. These unknown categories will be encoded as all zeros\n",
      "\n"
     ]
    },
    {
     "name": "stdout",
     "output_type": "stream",
     "text": [
      "Best C: {'classifier__C': 0.1}\n"
     ]
    },
    {
     "name": "stderr",
     "output_type": "stream",
     "text": [
      "/Library/Frameworks/Python.framework/Versions/3.12/lib/python3.12/site-packages/sklearn/preprocessing/_encoders.py:246: UserWarning:\n",
      "\n",
      "Found unknown categories in columns [3] during transform. These unknown categories will be encoded as all zeros\n",
      "\n"
     ]
    }
   ],
   "source": [
    "from sklearn.model_selection import GridSearchCV\n",
    "\n",
    "param_grid = {\n",
    "    'classifier__C': [0.01, 0.1, 1, 10, 100]\n",
    "}\n",
    "\n",
    "search = GridSearchCV(base_pipeline, param_grid, cv=5, scoring='accuracy')\n",
    "search.fit(X_train, y_train)\n",
    "\n",
    "print(\"Best C:\", search.best_params_)\n",
    "\n",
    "# Use the best model for predictions\n",
    "best_model = search.best_estimator_\n",
    "y_pred = best_model.predict(X_test)\n"
   ]
  },
  {
   "cell_type": "code",
   "execution_count": null,
   "id": "66a3b1a9",
   "metadata": {},
   "outputs": [],
   "source": [
    "from fairlearn.metrics import MetricFrame, selection_rate, true_positive_rate, false_positive_rate\n",
    "from sklearn.metrics import accuracy_score\n",
    "import numpy as np\n",
    "\n",
    "metric_frame = MetricFrame(\n",
    "    metrics={\n",
    "        'accuracy': accuracy_score,\n",
    "        'selection_rate': selection_rate,\n",
    "        'TPR': true_positive_rate,\n",
    "        'FPR': false_positive_rate\n",
    "    },\n",
    "    y_true=y_test,\n",
    "    y_pred=y_pred,\n",
    "    sensitive_features=X_test['subject_race']\n",
    ")\n",
    "\n",
    "print(\"Fairness breakdown:\\n\")\n",
    "print(metric_frame.by_group)\n"
   ]
  },
  {
   "cell_type": "code",
   "execution_count": null,
   "id": "e7c2cd2f",
   "metadata": {},
   "outputs": [],
   "source": [
    "import matplotlib.pyplot as plt\n",
    "import pandas as pd\n",
    "\n",
    "# Get feature names after encoding\n",
    "feature_names = best_model.named_steps['preprocessor'].get_feature_names_out()\n",
    "coef = best_model.named_steps['classifier'].coef_[0]\n",
    "\n",
    "coefficients = pd.Series(coef, index=feature_names).sort_values()\n",
    "coefficients.plot(kind='barh', figsize=(10, 8), title='Logistic Regression Feature Importance')\n",
    "plt.tight_layout()\n",
    "plt.show()\n"
   ]
  },
  {
   "cell_type": "code",
   "execution_count": null,
   "id": "c4c93fa3",
   "metadata": {},
   "outputs": [
    {
     "name": "stderr",
     "output_type": "stream",
     "text": [
      "/Library/Frameworks/Python.framework/Versions/3.12/lib/python3.12/site-packages/sklearn/preprocessing/_encoders.py:246: UserWarning:\n",
      "\n",
      "Found unknown categories in columns [4] during transform. These unknown categories will be encoded as all zeros\n",
      "\n"
     ]
    }
   ],
   "source": [
    "from sklearn.linear_model import LogisticRegression\n",
    "from sklearn.model_selection import train_test_split\n",
    "from sklearn.preprocessing import OneHotEncoder\n",
    "from imblearn.over_sampling import RandomOverSampler\n",
    "import pandas as pd\n",
    "\n",
    "# 1. Select and split\n",
    "features = ['subject_race', 'subject_sex', 'subject_age', 'precinct', 'zone']\n",
    "X = df[features].copy()\n",
    "y = df['raw_driver_searched']\n",
    "\n",
    "X_train, X_test, y_train, y_test = train_test_split(X, y, test_size=0.3, random_state=42)\n",
    "\n",
    "# 2. Convert categorical to string\n",
    "cat = ['subject_race', 'subject_sex', 'precinct', 'zone']\n",
    "X_train[cat] = X_train[cat].astype(str)\n",
    "X_test[cat] = X_test[cat].astype(str)\n",
    "\n",
    "# 3. Oversample training set to balance classes\n",
    "ros = RandomOverSampler(random_state=42)\n",
    "X_train_res, y_train_res = ros.fit_resample(X_train, y_train)\n",
    "\n",
    "# 4. One-hot encode\n",
    "encoder = OneHotEncoder(drop='first', handle_unknown='ignore', sparse_output=False)\n",
    "X_train_enc = encoder.fit_transform(X_train_res)\n",
    "X_test_enc = encoder.transform(X_test)\n",
    "\n",
    "# 5. Train Logistic Regression\n",
    "clf = LogisticRegression(solver='liblinear')\n",
    "clf.fit(X_train_enc, y_train_res)\n",
    "\n",
    "# 6. Predict\n",
    "y_pred = clf.predict(X_test_enc)\n"
   ]
  },
  {
   "cell_type": "markdown",
   "id": "c61a4706",
   "metadata": {},
   "source": [
    "### Evaluate fairness metrics using MetricFrame\n",
    "- Use `fairlearn.metrics.MetricFrame` to compute group-specific metrics by race.\n",
    "- Evaluate:\n",
    "  - Accuracy\n",
    "  - Selection Rate (search rate)\n",
    "  - True Positive Rate (TPR)\n",
    "  - False Positive Rate (FPR)\n",
    "- This breakdown shows how model performance varies across demographic groups.\n"
   ]
  },
  {
   "cell_type": "code",
   "execution_count": null,
   "id": "f95d4646",
   "metadata": {},
   "outputs": [
    {
     "name": "stdout",
     "output_type": "stream",
     "text": [
      "                        accuracy  selection_rate       TPR       FPR\n",
      "subject_race                                                        \n",
      "asian/pacific islander  0.822660        0.174877  0.461538  0.165394\n",
      "black                   0.533264        0.495088  0.819417  0.480025\n",
      "hispanic                0.446292        0.596547  0.935065  0.579018\n",
      "white                   0.777304        0.221356  0.469613  0.215762\n"
     ]
    }
   ],
   "source": [
    "from fairlearn.metrics import MetricFrame, selection_rate, true_positive_rate, false_positive_rate\n",
    "from sklearn.metrics import accuracy_score\n",
    "\n",
    "metric_frame = MetricFrame(\n",
    "    metrics={\n",
    "        'accuracy': accuracy_score,\n",
    "        'selection_rate': selection_rate,\n",
    "        'TPR': true_positive_rate,\n",
    "        'FPR': false_positive_rate\n",
    "    },\n",
    "    y_true=y_test,\n",
    "    y_pred=y_pred,\n",
    "    sensitive_features=X_test['subject_race']\n",
    ")\n",
    "\n",
    "print(metric_frame.by_group)\n"
   ]
  },
  {
   "cell_type": "markdown",
   "id": "e4fe252e",
   "metadata": {},
   "source": [
    "# Use another model to compare results"
   ]
  },
  {
   "cell_type": "markdown",
   "id": "7e7a2350",
   "metadata": {},
   "source": [
    "### Train a Random Forest classifier using a full pipeline\n",
    "- Define key features and the binary target variable.\n",
    "- Split data into training and test sets.\n",
    "- Convert categorical columns to string format to enable one-hot encoding.\n",
    "- Apply oversampling to balance the training set.\n",
    "- Use `ColumnTransformer` for preprocessing and build a pipeline with a Random Forest classifier.\n",
    "- Fit the model and generate predictions on the test set.\n"
   ]
  },
  {
   "cell_type": "code",
   "execution_count": 13,
   "id": "101d6d46",
   "metadata": {},
   "outputs": [
    {
     "name": "stderr",
     "output_type": "stream",
     "text": [
      "/Library/Frameworks/Python.framework/Versions/3.12/lib/python3.12/site-packages/sklearn/preprocessing/_encoders.py:246: UserWarning:\n",
      "\n",
      "Found unknown categories in columns [3] during transform. These unknown categories will be encoded as all zeros\n",
      "\n"
     ]
    }
   ],
   "source": [
    "from sklearn.pipeline import Pipeline\n",
    "from sklearn.compose import ColumnTransformer\n",
    "from sklearn.preprocessing import OneHotEncoder\n",
    "from sklearn.ensemble import RandomForestClassifier\n",
    "from sklearn.model_selection import train_test_split\n",
    "from imblearn.over_sampling import RandomOverSampler\n",
    "\n",
    "# STEP 1: Select features and target\n",
    "features = ['subject_race', 'subject_sex', 'subject_age', 'precinct', 'zone']\n",
    "X = df[features].copy()\n",
    "y = df['raw_driver_searched']\n",
    "\n",
    "# STEP 2: Split\n",
    "X_train, X_test, y_train, y_test = train_test_split(X, y, test_size=0.3, random_state=42)\n",
    "\n",
    "# STEP 3: Handle categoricals\n",
    "categorical = ['subject_race', 'subject_sex', 'precinct', 'zone']\n",
    "numeric = ['subject_age']\n",
    "for col in categorical:\n",
    "    X_train[col] = X_train[col].astype(str)\n",
    "    X_test[col] = X_test[col].astype(str)\n",
    "\n",
    "# STEP 4: Oversample training set\n",
    "ros = RandomOverSampler(random_state=42)\n",
    "X_train_res, y_train_res = ros.fit_resample(X_train, y_train)\n",
    "\n",
    "# STEP 5: Preprocessor\n",
    "preprocessor = ColumnTransformer(\n",
    "    transformers=[\n",
    "        ('cat', OneHotEncoder(drop='first', handle_unknown='ignore'), categorical),\n",
    "        ('num', 'passthrough', numeric)\n",
    "    ]\n",
    ")\n",
    "\n",
    "# STEP 6: Pipeline\n",
    "rf_pipeline = Pipeline(steps=[\n",
    "    ('preprocessor', preprocessor),\n",
    "    ('classifier', RandomForestClassifier(n_estimators=100, random_state=0))\n",
    "])\n",
    "\n",
    "# STEP 7: Fit model\n",
    "rf_pipeline.fit(X_train_res, y_train_res)\n",
    "\n",
    "# STEP 8: Predict\n",
    "y_pred = rf_pipeline.predict(X_test)\n"
   ]
  },
  {
   "cell_type": "markdown",
   "id": "1abf4754",
   "metadata": {},
   "source": [
    "### Compute fairness metrics for random forest predictions\n",
    "- Evaluate group-wise performance of the random forest model using `MetricFrame`.\n",
    "- Compute accuracy, selection rate, TPR, and FPR by subject race.\n",
    "- Enables direct comparison to logistic regression in terms of fairness.\n"
   ]
  },
  {
   "cell_type": "code",
   "execution_count": 14,
   "id": "e4fea0e0",
   "metadata": {},
   "outputs": [
    {
     "name": "stdout",
     "output_type": "stream",
     "text": [
      "                        accuracy selection_rate       TPR       FPR\n",
      "subject_race                                                       \n",
      "asian/pacific islander   0.94335       0.029557  0.076923   0.02799\n",
      "black                   0.769993       0.219579  0.382524  0.212012\n",
      "hispanic                0.848465        0.12532  0.233766  0.119704\n",
      "white                   0.857543       0.130768  0.234807  0.128424\n"
     ]
    },
    {
     "name": "stderr",
     "output_type": "stream",
     "text": [
      "/Library/Frameworks/Python.framework/Versions/3.12/lib/python3.12/site-packages/fairlearn/metrics/_metric_frame.py:272: FutureWarning:\n",
      "\n",
      "ChainedAssignmentError: behaviour will change in pandas 3.0!\n",
      "You are setting values through chained assignment. Currently this works in certain cases, but when using Copy-on-Write (which will become the default behaviour in pandas 3.0) this will never work to update the original DataFrame or Series, because the intermediate object on which we are setting values will behave as a copy.\n",
      "A typical example is when you are setting values in a column of a DataFrame, like:\n",
      "\n",
      "df[\"col\"][row_indexer] = value\n",
      "\n",
      "Use `df.loc[row_indexer, \"col\"] = values` instead, to perform the assignment in a single step and ensure this keeps updating the original `df`.\n",
      "\n",
      "See the caveats in the documentation: https://pandas.pydata.org/pandas-docs/stable/user_guide/indexing.html#returning-a-view-versus-a-copy\n",
      "\n",
      "\n",
      "/Library/Frameworks/Python.framework/Versions/3.12/lib/python3.12/site-packages/fairlearn/metrics/_metric_frame.py:272: FutureWarning:\n",
      "\n",
      "ChainedAssignmentError: behaviour will change in pandas 3.0!\n",
      "You are setting values through chained assignment. Currently this works in certain cases, but when using Copy-on-Write (which will become the default behaviour in pandas 3.0) this will never work to update the original DataFrame or Series, because the intermediate object on which we are setting values will behave as a copy.\n",
      "A typical example is when you are setting values in a column of a DataFrame, like:\n",
      "\n",
      "df[\"col\"][row_indexer] = value\n",
      "\n",
      "Use `df.loc[row_indexer, \"col\"] = values` instead, to perform the assignment in a single step and ensure this keeps updating the original `df`.\n",
      "\n",
      "See the caveats in the documentation: https://pandas.pydata.org/pandas-docs/stable/user_guide/indexing.html#returning-a-view-versus-a-copy\n",
      "\n",
      "\n",
      "/Library/Frameworks/Python.framework/Versions/3.12/lib/python3.12/site-packages/fairlearn/metrics/_metric_frame.py:272: FutureWarning:\n",
      "\n",
      "ChainedAssignmentError: behaviour will change in pandas 3.0!\n",
      "You are setting values through chained assignment. Currently this works in certain cases, but when using Copy-on-Write (which will become the default behaviour in pandas 3.0) this will never work to update the original DataFrame or Series, because the intermediate object on which we are setting values will behave as a copy.\n",
      "A typical example is when you are setting values in a column of a DataFrame, like:\n",
      "\n",
      "df[\"col\"][row_indexer] = value\n",
      "\n",
      "Use `df.loc[row_indexer, \"col\"] = values` instead, to perform the assignment in a single step and ensure this keeps updating the original `df`.\n",
      "\n",
      "See the caveats in the documentation: https://pandas.pydata.org/pandas-docs/stable/user_guide/indexing.html#returning-a-view-versus-a-copy\n",
      "\n",
      "\n",
      "/Library/Frameworks/Python.framework/Versions/3.12/lib/python3.12/site-packages/fairlearn/metrics/_metric_frame.py:272: FutureWarning:\n",
      "\n",
      "ChainedAssignmentError: behaviour will change in pandas 3.0!\n",
      "You are setting values through chained assignment. Currently this works in certain cases, but when using Copy-on-Write (which will become the default behaviour in pandas 3.0) this will never work to update the original DataFrame or Series, because the intermediate object on which we are setting values will behave as a copy.\n",
      "A typical example is when you are setting values in a column of a DataFrame, like:\n",
      "\n",
      "df[\"col\"][row_indexer] = value\n",
      "\n",
      "Use `df.loc[row_indexer, \"col\"] = values` instead, to perform the assignment in a single step and ensure this keeps updating the original `df`.\n",
      "\n",
      "See the caveats in the documentation: https://pandas.pydata.org/pandas-docs/stable/user_guide/indexing.html#returning-a-view-versus-a-copy\n",
      "\n",
      "\n",
      "/Library/Frameworks/Python.framework/Versions/3.12/lib/python3.12/site-packages/fairlearn/metrics/_metric_frame.py:272: FutureWarning:\n",
      "\n",
      "ChainedAssignmentError: behaviour will change in pandas 3.0!\n",
      "You are setting values through chained assignment. Currently this works in certain cases, but when using Copy-on-Write (which will become the default behaviour in pandas 3.0) this will never work to update the original DataFrame or Series, because the intermediate object on which we are setting values will behave as a copy.\n",
      "A typical example is when you are setting values in a column of a DataFrame, like:\n",
      "\n",
      "df[\"col\"][row_indexer] = value\n",
      "\n",
      "Use `df.loc[row_indexer, \"col\"] = values` instead, to perform the assignment in a single step and ensure this keeps updating the original `df`.\n",
      "\n",
      "See the caveats in the documentation: https://pandas.pydata.org/pandas-docs/stable/user_guide/indexing.html#returning-a-view-versus-a-copy\n",
      "\n",
      "\n",
      "/Library/Frameworks/Python.framework/Versions/3.12/lib/python3.12/site-packages/fairlearn/metrics/_metric_frame.py:272: FutureWarning:\n",
      "\n",
      "ChainedAssignmentError: behaviour will change in pandas 3.0!\n",
      "You are setting values through chained assignment. Currently this works in certain cases, but when using Copy-on-Write (which will become the default behaviour in pandas 3.0) this will never work to update the original DataFrame or Series, because the intermediate object on which we are setting values will behave as a copy.\n",
      "A typical example is when you are setting values in a column of a DataFrame, like:\n",
      "\n",
      "df[\"col\"][row_indexer] = value\n",
      "\n",
      "Use `df.loc[row_indexer, \"col\"] = values` instead, to perform the assignment in a single step and ensure this keeps updating the original `df`.\n",
      "\n",
      "See the caveats in the documentation: https://pandas.pydata.org/pandas-docs/stable/user_guide/indexing.html#returning-a-view-versus-a-copy\n",
      "\n",
      "\n",
      "/Library/Frameworks/Python.framework/Versions/3.12/lib/python3.12/site-packages/fairlearn/metrics/_metric_frame.py:272: FutureWarning:\n",
      "\n",
      "ChainedAssignmentError: behaviour will change in pandas 3.0!\n",
      "You are setting values through chained assignment. Currently this works in certain cases, but when using Copy-on-Write (which will become the default behaviour in pandas 3.0) this will never work to update the original DataFrame or Series, because the intermediate object on which we are setting values will behave as a copy.\n",
      "A typical example is when you are setting values in a column of a DataFrame, like:\n",
      "\n",
      "df[\"col\"][row_indexer] = value\n",
      "\n",
      "Use `df.loc[row_indexer, \"col\"] = values` instead, to perform the assignment in a single step and ensure this keeps updating the original `df`.\n",
      "\n",
      "See the caveats in the documentation: https://pandas.pydata.org/pandas-docs/stable/user_guide/indexing.html#returning-a-view-versus-a-copy\n",
      "\n",
      "\n",
      "/Library/Frameworks/Python.framework/Versions/3.12/lib/python3.12/site-packages/fairlearn/metrics/_metric_frame.py:272: FutureWarning:\n",
      "\n",
      "ChainedAssignmentError: behaviour will change in pandas 3.0!\n",
      "You are setting values through chained assignment. Currently this works in certain cases, but when using Copy-on-Write (which will become the default behaviour in pandas 3.0) this will never work to update the original DataFrame or Series, because the intermediate object on which we are setting values will behave as a copy.\n",
      "A typical example is when you are setting values in a column of a DataFrame, like:\n",
      "\n",
      "df[\"col\"][row_indexer] = value\n",
      "\n",
      "Use `df.loc[row_indexer, \"col\"] = values` instead, to perform the assignment in a single step and ensure this keeps updating the original `df`.\n",
      "\n",
      "See the caveats in the documentation: https://pandas.pydata.org/pandas-docs/stable/user_guide/indexing.html#returning-a-view-versus-a-copy\n",
      "\n",
      "\n",
      "/Library/Frameworks/Python.framework/Versions/3.12/lib/python3.12/site-packages/fairlearn/metrics/_metric_frame.py:272: FutureWarning:\n",
      "\n",
      "ChainedAssignmentError: behaviour will change in pandas 3.0!\n",
      "You are setting values through chained assignment. Currently this works in certain cases, but when using Copy-on-Write (which will become the default behaviour in pandas 3.0) this will never work to update the original DataFrame or Series, because the intermediate object on which we are setting values will behave as a copy.\n",
      "A typical example is when you are setting values in a column of a DataFrame, like:\n",
      "\n",
      "df[\"col\"][row_indexer] = value\n",
      "\n",
      "Use `df.loc[row_indexer, \"col\"] = values` instead, to perform the assignment in a single step and ensure this keeps updating the original `df`.\n",
      "\n",
      "See the caveats in the documentation: https://pandas.pydata.org/pandas-docs/stable/user_guide/indexing.html#returning-a-view-versus-a-copy\n",
      "\n",
      "\n",
      "/Library/Frameworks/Python.framework/Versions/3.12/lib/python3.12/site-packages/fairlearn/metrics/_metric_frame.py:272: FutureWarning:\n",
      "\n",
      "ChainedAssignmentError: behaviour will change in pandas 3.0!\n",
      "You are setting values through chained assignment. Currently this works in certain cases, but when using Copy-on-Write (which will become the default behaviour in pandas 3.0) this will never work to update the original DataFrame or Series, because the intermediate object on which we are setting values will behave as a copy.\n",
      "A typical example is when you are setting values in a column of a DataFrame, like:\n",
      "\n",
      "df[\"col\"][row_indexer] = value\n",
      "\n",
      "Use `df.loc[row_indexer, \"col\"] = values` instead, to perform the assignment in a single step and ensure this keeps updating the original `df`.\n",
      "\n",
      "See the caveats in the documentation: https://pandas.pydata.org/pandas-docs/stable/user_guide/indexing.html#returning-a-view-versus-a-copy\n",
      "\n",
      "\n",
      "/Library/Frameworks/Python.framework/Versions/3.12/lib/python3.12/site-packages/fairlearn/metrics/_metric_frame.py:272: FutureWarning:\n",
      "\n",
      "ChainedAssignmentError: behaviour will change in pandas 3.0!\n",
      "You are setting values through chained assignment. Currently this works in certain cases, but when using Copy-on-Write (which will become the default behaviour in pandas 3.0) this will never work to update the original DataFrame or Series, because the intermediate object on which we are setting values will behave as a copy.\n",
      "A typical example is when you are setting values in a column of a DataFrame, like:\n",
      "\n",
      "df[\"col\"][row_indexer] = value\n",
      "\n",
      "Use `df.loc[row_indexer, \"col\"] = values` instead, to perform the assignment in a single step and ensure this keeps updating the original `df`.\n",
      "\n",
      "See the caveats in the documentation: https://pandas.pydata.org/pandas-docs/stable/user_guide/indexing.html#returning-a-view-versus-a-copy\n",
      "\n",
      "\n",
      "/Library/Frameworks/Python.framework/Versions/3.12/lib/python3.12/site-packages/fairlearn/metrics/_metric_frame.py:272: FutureWarning:\n",
      "\n",
      "ChainedAssignmentError: behaviour will change in pandas 3.0!\n",
      "You are setting values through chained assignment. Currently this works in certain cases, but when using Copy-on-Write (which will become the default behaviour in pandas 3.0) this will never work to update the original DataFrame or Series, because the intermediate object on which we are setting values will behave as a copy.\n",
      "A typical example is when you are setting values in a column of a DataFrame, like:\n",
      "\n",
      "df[\"col\"][row_indexer] = value\n",
      "\n",
      "Use `df.loc[row_indexer, \"col\"] = values` instead, to perform the assignment in a single step and ensure this keeps updating the original `df`.\n",
      "\n",
      "See the caveats in the documentation: https://pandas.pydata.org/pandas-docs/stable/user_guide/indexing.html#returning-a-view-versus-a-copy\n",
      "\n",
      "\n"
     ]
    }
   ],
   "source": [
    "from fairlearn.metrics import MetricFrame, selection_rate, true_positive_rate, false_positive_rate\n",
    "from sklearn.metrics import accuracy_score\n",
    "\n",
    "metric_frame_rf = MetricFrame(\n",
    "    metrics={\n",
    "        'accuracy': accuracy_score,\n",
    "        'selection_rate': selection_rate,\n",
    "        'TPR': true_positive_rate,\n",
    "        'FPR': false_positive_rate\n",
    "    },\n",
    "    y_true=y_test,\n",
    "    y_pred=y_pred,\n",
    "    sensitive_features=X_test['subject_race']\n",
    ")\n",
    "\n",
    "print(metric_frame_rf.by_group)\n"
   ]
  },
  {
   "cell_type": "markdown",
   "id": "44eaab4b",
   "metadata": {},
   "source": [
    "### Compute and visualize global SHAP values for random forest\n",
    "- Extract the classifier and preprocessing steps from the pipeline.\n",
    "- Transform the test set and convert it to a dense format.\n",
    "- Create a SHAP explainer using a sample of 3,000 transformed test rows.\n",
    "- Compute SHAP values for class 1 (searched).\n",
    "- Generate a SHAP summary plot to show the global importance and effect of each feature on model predictions.\n"
   ]
  },
  {
   "cell_type": "code",
   "execution_count": 15,
   "id": "4efc2064",
   "metadata": {},
   "outputs": [
    {
     "name": "stderr",
     "output_type": "stream",
     "text": [
      "/Library/Frameworks/Python.framework/Versions/3.12/lib/python3.12/site-packages/sklearn/preprocessing/_encoders.py:246: UserWarning:\n",
      "\n",
      "Found unknown categories in columns [3] during transform. These unknown categories will be encoded as all zeros\n",
      "\n",
      "100%|===================| 5999/6000 [07:17<00:00]        "
     ]
    },
    {
     "data": {
      "image/png": "[encoded data removed]",
      "text/plain": [
       "<Figure size 800x950 with 2 Axes>"
      ]
     },
     "metadata": {},
     "output_type": "display_data"
    }
   ],
   "source": [
    "import shap\n",
    "import pandas as pd\n",
    "import matplotlib.pyplot as plt\n",
    "import numpy as np\n",
    "\n",
    "# Step 1: Extract model and preprocessor\n",
    "rf_model = rf_pipeline.named_steps['classifier']\n",
    "preprocessor = rf_pipeline.named_steps['preprocessor']\n",
    "\n",
    "# Step 2: Transform test set (dense)\n",
    "X_test_transformed = preprocessor.transform(X_test)\n",
    "if hasattr(X_test_transformed, \"toarray\"):\n",
    "    X_test_transformed = X_test_transformed.toarray()\n",
    "\n",
    "# Step 3: Get feature names\n",
    "feature_names = preprocessor.get_feature_names_out()\n",
    "X_test_df = pd.DataFrame(X_test_transformed, columns=feature_names)\n",
    "\n",
    "# Step 4: Sample subset for fast SHAP (e.g., 3,000 rows)\n",
    "X_shap = X_test_df.sample(n=3000, random_state=42)\n",
    "\n",
    "# Step 5: Create SHAP explainer (model + sample)\n",
    "explainer = shap.Explainer(rf_model, X_shap)\n",
    "\n",
    "# Step 6: Compute SHAP values for class 1 (Search = True)\n",
    "shap_values = explainer(X_shap)\n",
    "\n",
    "# Step 7: Plot summary for class 1\n",
    "shap.summary_plot(shap_values[:, :, 1], features=X_shap, feature_names=feature_names)\n"
   ]
  },
  {
   "cell_type": "code",
   "execution_count": 20,
   "id": "0a523ee1",
   "metadata": {},
   "outputs": [
    {
     "name": "stdout",
     "output_type": "stream",
     "text": [
      "📊 Equal Opportunity Difference (manual): 0.3056\n"
     ]
    },
    {
     "name": "stderr",
     "output_type": "stream",
     "text": [
      "/Library/Frameworks/Python.framework/Versions/3.12/lib/python3.12/site-packages/fairlearn/metrics/_metric_frame.py:272: FutureWarning:\n",
      "\n",
      "ChainedAssignmentError: behaviour will change in pandas 3.0!\n",
      "You are setting values through chained assignment. Currently this works in certain cases, but when using Copy-on-Write (which will become the default behaviour in pandas 3.0) this will never work to update the original DataFrame or Series, because the intermediate object on which we are setting values will behave as a copy.\n",
      "A typical example is when you are setting values in a column of a DataFrame, like:\n",
      "\n",
      "df[\"col\"][row_indexer] = value\n",
      "\n",
      "Use `df.loc[row_indexer, \"col\"] = values` instead, to perform the assignment in a single step and ensure this keeps updating the original `df`.\n",
      "\n",
      "See the caveats in the documentation: https://pandas.pydata.org/pandas-docs/stable/user_guide/indexing.html#returning-a-view-versus-a-copy\n",
      "\n",
      "\n",
      "/Library/Frameworks/Python.framework/Versions/3.12/lib/python3.12/site-packages/fairlearn/metrics/_metric_frame.py:272: FutureWarning:\n",
      "\n",
      "ChainedAssignmentError: behaviour will change in pandas 3.0!\n",
      "You are setting values through chained assignment. Currently this works in certain cases, but when using Copy-on-Write (which will become the default behaviour in pandas 3.0) this will never work to update the original DataFrame or Series, because the intermediate object on which we are setting values will behave as a copy.\n",
      "A typical example is when you are setting values in a column of a DataFrame, like:\n",
      "\n",
      "df[\"col\"][row_indexer] = value\n",
      "\n",
      "Use `df.loc[row_indexer, \"col\"] = values` instead, to perform the assignment in a single step and ensure this keeps updating the original `df`.\n",
      "\n",
      "See the caveats in the documentation: https://pandas.pydata.org/pandas-docs/stable/user_guide/indexing.html#returning-a-view-versus-a-copy\n",
      "\n",
      "\n",
      "/Library/Frameworks/Python.framework/Versions/3.12/lib/python3.12/site-packages/fairlearn/metrics/_metric_frame.py:272: FutureWarning:\n",
      "\n",
      "ChainedAssignmentError: behaviour will change in pandas 3.0!\n",
      "You are setting values through chained assignment. Currently this works in certain cases, but when using Copy-on-Write (which will become the default behaviour in pandas 3.0) this will never work to update the original DataFrame or Series, because the intermediate object on which we are setting values will behave as a copy.\n",
      "A typical example is when you are setting values in a column of a DataFrame, like:\n",
      "\n",
      "df[\"col\"][row_indexer] = value\n",
      "\n",
      "Use `df.loc[row_indexer, \"col\"] = values` instead, to perform the assignment in a single step and ensure this keeps updating the original `df`.\n",
      "\n",
      "See the caveats in the documentation: https://pandas.pydata.org/pandas-docs/stable/user_guide/indexing.html#returning-a-view-versus-a-copy\n",
      "\n",
      "\n",
      "/Library/Frameworks/Python.framework/Versions/3.12/lib/python3.12/site-packages/fairlearn/metrics/_metric_frame.py:272: FutureWarning:\n",
      "\n",
      "ChainedAssignmentError: behaviour will change in pandas 3.0!\n",
      "You are setting values through chained assignment. Currently this works in certain cases, but when using Copy-on-Write (which will become the default behaviour in pandas 3.0) this will never work to update the original DataFrame or Series, because the intermediate object on which we are setting values will behave as a copy.\n",
      "A typical example is when you are setting values in a column of a DataFrame, like:\n",
      "\n",
      "df[\"col\"][row_indexer] = value\n",
      "\n",
      "Use `df.loc[row_indexer, \"col\"] = values` instead, to perform the assignment in a single step and ensure this keeps updating the original `df`.\n",
      "\n",
      "See the caveats in the documentation: https://pandas.pydata.org/pandas-docs/stable/user_guide/indexing.html#returning-a-view-versus-a-copy\n",
      "\n",
      "\n"
     ]
    }
   ],
   "source": [
    "from fairlearn.metrics import MetricFrame, true_positive_rate\n",
    "\n",
    "# Create MetricFrame with TPR by race\n",
    "metric_frame = MetricFrame(\n",
    "    metrics={\"TPR\": true_positive_rate},\n",
    "    y_true=y_test,\n",
    "    y_pred=y_pred,\n",
    "    sensitive_features=X_test[\"subject_race\"]\n",
    ")\n",
    "\n",
    "# Calculate Equal Opportunity Difference manually\n",
    "eo_diff = metric_frame.by_group[\"TPR\"].max() - metric_frame.by_group[\"TPR\"].min()\n",
    "\n",
    "print(\"📊 Equal Opportunity Difference (manual):\", round(eo_diff, 4))\n"
   ]
  },
  {
   "cell_type": "markdown",
   "id": "77813ebc",
   "metadata": {},
   "source": [
    "### Fairness Mitigation and Final Evaluation\n",
    "\n",
    "After assessing the Random Forest model’s global interpretability using SHAP, we further evaluated its fairness by computing the Equal Opportunity Difference manually. This highlighted disparities in true positive rates across racial groups.\n",
    "\n",
    "To address these disparities, we applied the preprocessing pipeline manually and used the transformed training and test sets to train a fairness-aware model using the Exponentiated Gradient algorithm with a Demographic Parity constraint. This approach iteratively optimizes fairness while maintaining model performance.\n",
    "\n",
    "We evaluated the mitigated model using the same fairness metrics as before (accuracy, selection rate, TPR, FPR), and compared it against the original logistic regression and random forest models. The mitigation significantly reduced disparities in search rates and true positive rates across groups, with only a minor trade-off in overall accuracy.\n",
    "\n",
    "Finally, we used a SHAP local explanation (waterfall plot) to interpret one specific search prediction. This plot illustrated how individual feature values—such as race, age, and location—contributed to the model’s decision, reinforcing the importance of interpretability in fairness-sensitive applications."
   ]
  },
  {
   "cell_type": "code",
   "execution_count": 23,
   "id": "4360863b",
   "metadata": {},
   "outputs": [
    {
     "name": "stderr",
     "output_type": "stream",
     "text": [
      "/Library/Frameworks/Python.framework/Versions/3.12/lib/python3.12/site-packages/sklearn/preprocessing/_encoders.py:246: UserWarning:\n",
      "\n",
      "Found unknown categories in columns [3] during transform. These unknown categories will be encoded as all zeros\n",
      "\n"
     ]
    }
   ],
   "source": [
    "# Run preprocessor manually\n",
    "X_train_transformed = preprocessor.transform(X_train)\n",
    "X_test_transformed = preprocessor.transform(X_test)\n",
    "\n",
    "# If it's sparse, convert to dense\n",
    "if hasattr(X_train_transformed, \"toarray\"):\n",
    "    X_train_transformed = X_train_transformed.toarray()\n",
    "    X_test_transformed = X_test_transformed.toarray()\n"
   ]
  },
  {
   "cell_type": "code",
   "execution_count": 24,
   "id": "e49f6288",
   "metadata": {},
   "outputs": [],
   "source": [
    "from sklearn.ensemble import RandomForestClassifier\n",
    "\n",
    "# Build a clean RF model\n",
    "rf_model = RandomForestClassifier(random_state=0, class_weight='balanced')\n"
   ]
  },
  {
   "cell_type": "code",
   "execution_count": 25,
   "id": "bb13b661",
   "metadata": {},
   "outputs": [],
   "source": [
    "from fairlearn.reductions import ExponentiatedGradient, DemographicParity\n",
    "\n",
    "# Fairness constraint\n",
    "constraint = DemographicParity()\n",
    "\n",
    "# Create fairness-aware trainer\n",
    "expgrad = ExponentiatedGradient(estimator=rf_model, constraints=constraint)\n",
    "\n",
    "# Train on preprocessed data\n",
    "expgrad.fit(X_train_transformed, y_train, sensitive_features=X_train[\"subject_race\"])\n",
    "\n",
    "# Predict on test set\n",
    "y_pred_fair = expgrad.predict(X_test_transformed)\n"
   ]
  },
  {
   "cell_type": "code",
   "execution_count": 28,
   "id": "9faed8ff",
   "metadata": {},
   "outputs": [
    {
     "name": "stdout",
     "output_type": "stream",
     "text": [
      "                        accuracy selection_rate       TPR       FPR\n",
      "subject_race                                                       \n",
      "asian/pacific islander  0.881773       0.096059  0.153846  0.094148\n",
      "black                   0.890814       0.076698  0.133981  0.074037\n",
      "hispanic                0.891304       0.073529  0.142857  0.069939\n",
      "white                   0.888287       0.097833  0.185083  0.095867\n"
     ]
    },
    {
     "name": "stderr",
     "output_type": "stream",
     "text": [
      "/Library/Frameworks/Python.framework/Versions/3.12/lib/python3.12/site-packages/fairlearn/metrics/_metric_frame.py:272: FutureWarning:\n",
      "\n",
      "ChainedAssignmentError: behaviour will change in pandas 3.0!\n",
      "You are setting values through chained assignment. Currently this works in certain cases, but when using Copy-on-Write (which will become the default behaviour in pandas 3.0) this will never work to update the original DataFrame or Series, because the intermediate object on which we are setting values will behave as a copy.\n",
      "A typical example is when you are setting values in a column of a DataFrame, like:\n",
      "\n",
      "df[\"col\"][row_indexer] = value\n",
      "\n",
      "Use `df.loc[row_indexer, \"col\"] = values` instead, to perform the assignment in a single step and ensure this keeps updating the original `df`.\n",
      "\n",
      "See the caveats in the documentation: https://pandas.pydata.org/pandas-docs/stable/user_guide/indexing.html#returning-a-view-versus-a-copy\n",
      "\n",
      "\n",
      "/Library/Frameworks/Python.framework/Versions/3.12/lib/python3.12/site-packages/fairlearn/metrics/_metric_frame.py:272: FutureWarning:\n",
      "\n",
      "ChainedAssignmentError: behaviour will change in pandas 3.0!\n",
      "You are setting values through chained assignment. Currently this works in certain cases, but when using Copy-on-Write (which will become the default behaviour in pandas 3.0) this will never work to update the original DataFrame or Series, because the intermediate object on which we are setting values will behave as a copy.\n",
      "A typical example is when you are setting values in a column of a DataFrame, like:\n",
      "\n",
      "df[\"col\"][row_indexer] = value\n",
      "\n",
      "Use `df.loc[row_indexer, \"col\"] = values` instead, to perform the assignment in a single step and ensure this keeps updating the original `df`.\n",
      "\n",
      "See the caveats in the documentation: https://pandas.pydata.org/pandas-docs/stable/user_guide/indexing.html#returning-a-view-versus-a-copy\n",
      "\n",
      "\n",
      "/Library/Frameworks/Python.framework/Versions/3.12/lib/python3.12/site-packages/fairlearn/metrics/_metric_frame.py:272: FutureWarning:\n",
      "\n",
      "ChainedAssignmentError: behaviour will change in pandas 3.0!\n",
      "You are setting values through chained assignment. Currently this works in certain cases, but when using Copy-on-Write (which will become the default behaviour in pandas 3.0) this will never work to update the original DataFrame or Series, because the intermediate object on which we are setting values will behave as a copy.\n",
      "A typical example is when you are setting values in a column of a DataFrame, like:\n",
      "\n",
      "df[\"col\"][row_indexer] = value\n",
      "\n",
      "Use `df.loc[row_indexer, \"col\"] = values` instead, to perform the assignment in a single step and ensure this keeps updating the original `df`.\n",
      "\n",
      "See the caveats in the documentation: https://pandas.pydata.org/pandas-docs/stable/user_guide/indexing.html#returning-a-view-versus-a-copy\n",
      "\n",
      "\n",
      "/Library/Frameworks/Python.framework/Versions/3.12/lib/python3.12/site-packages/fairlearn/metrics/_metric_frame.py:272: FutureWarning:\n",
      "\n",
      "ChainedAssignmentError: behaviour will change in pandas 3.0!\n",
      "You are setting values through chained assignment. Currently this works in certain cases, but when using Copy-on-Write (which will become the default behaviour in pandas 3.0) this will never work to update the original DataFrame or Series, because the intermediate object on which we are setting values will behave as a copy.\n",
      "A typical example is when you are setting values in a column of a DataFrame, like:\n",
      "\n",
      "df[\"col\"][row_indexer] = value\n",
      "\n",
      "Use `df.loc[row_indexer, \"col\"] = values` instead, to perform the assignment in a single step and ensure this keeps updating the original `df`.\n",
      "\n",
      "See the caveats in the documentation: https://pandas.pydata.org/pandas-docs/stable/user_guide/indexing.html#returning-a-view-versus-a-copy\n",
      "\n",
      "\n",
      "/Library/Frameworks/Python.framework/Versions/3.12/lib/python3.12/site-packages/fairlearn/metrics/_metric_frame.py:272: FutureWarning:\n",
      "\n",
      "ChainedAssignmentError: behaviour will change in pandas 3.0!\n",
      "You are setting values through chained assignment. Currently this works in certain cases, but when using Copy-on-Write (which will become the default behaviour in pandas 3.0) this will never work to update the original DataFrame or Series, because the intermediate object on which we are setting values will behave as a copy.\n",
      "A typical example is when you are setting values in a column of a DataFrame, like:\n",
      "\n",
      "df[\"col\"][row_indexer] = value\n",
      "\n",
      "Use `df.loc[row_indexer, \"col\"] = values` instead, to perform the assignment in a single step and ensure this keeps updating the original `df`.\n",
      "\n",
      "See the caveats in the documentation: https://pandas.pydata.org/pandas-docs/stable/user_guide/indexing.html#returning-a-view-versus-a-copy\n",
      "\n",
      "\n",
      "/Library/Frameworks/Python.framework/Versions/3.12/lib/python3.12/site-packages/fairlearn/metrics/_metric_frame.py:272: FutureWarning:\n",
      "\n",
      "ChainedAssignmentError: behaviour will change in pandas 3.0!\n",
      "You are setting values through chained assignment. Currently this works in certain cases, but when using Copy-on-Write (which will become the default behaviour in pandas 3.0) this will never work to update the original DataFrame or Series, because the intermediate object on which we are setting values will behave as a copy.\n",
      "A typical example is when you are setting values in a column of a DataFrame, like:\n",
      "\n",
      "df[\"col\"][row_indexer] = value\n",
      "\n",
      "Use `df.loc[row_indexer, \"col\"] = values` instead, to perform the assignment in a single step and ensure this keeps updating the original `df`.\n",
      "\n",
      "See the caveats in the documentation: https://pandas.pydata.org/pandas-docs/stable/user_guide/indexing.html#returning-a-view-versus-a-copy\n",
      "\n",
      "\n",
      "/Library/Frameworks/Python.framework/Versions/3.12/lib/python3.12/site-packages/fairlearn/metrics/_metric_frame.py:272: FutureWarning:\n",
      "\n",
      "ChainedAssignmentError: behaviour will change in pandas 3.0!\n",
      "You are setting values through chained assignment. Currently this works in certain cases, but when using Copy-on-Write (which will become the default behaviour in pandas 3.0) this will never work to update the original DataFrame or Series, because the intermediate object on which we are setting values will behave as a copy.\n",
      "A typical example is when you are setting values in a column of a DataFrame, like:\n",
      "\n",
      "df[\"col\"][row_indexer] = value\n",
      "\n",
      "Use `df.loc[row_indexer, \"col\"] = values` instead, to perform the assignment in a single step and ensure this keeps updating the original `df`.\n",
      "\n",
      "See the caveats in the documentation: https://pandas.pydata.org/pandas-docs/stable/user_guide/indexing.html#returning-a-view-versus-a-copy\n",
      "\n",
      "\n",
      "/Library/Frameworks/Python.framework/Versions/3.12/lib/python3.12/site-packages/fairlearn/metrics/_metric_frame.py:272: FutureWarning:\n",
      "\n",
      "ChainedAssignmentError: behaviour will change in pandas 3.0!\n",
      "You are setting values through chained assignment. Currently this works in certain cases, but when using Copy-on-Write (which will become the default behaviour in pandas 3.0) this will never work to update the original DataFrame or Series, because the intermediate object on which we are setting values will behave as a copy.\n",
      "A typical example is when you are setting values in a column of a DataFrame, like:\n",
      "\n",
      "df[\"col\"][row_indexer] = value\n",
      "\n",
      "Use `df.loc[row_indexer, \"col\"] = values` instead, to perform the assignment in a single step and ensure this keeps updating the original `df`.\n",
      "\n",
      "See the caveats in the documentation: https://pandas.pydata.org/pandas-docs/stable/user_guide/indexing.html#returning-a-view-versus-a-copy\n",
      "\n",
      "\n",
      "/Library/Frameworks/Python.framework/Versions/3.12/lib/python3.12/site-packages/fairlearn/metrics/_metric_frame.py:272: FutureWarning:\n",
      "\n",
      "ChainedAssignmentError: behaviour will change in pandas 3.0!\n",
      "You are setting values through chained assignment. Currently this works in certain cases, but when using Copy-on-Write (which will become the default behaviour in pandas 3.0) this will never work to update the original DataFrame or Series, because the intermediate object on which we are setting values will behave as a copy.\n",
      "A typical example is when you are setting values in a column of a DataFrame, like:\n",
      "\n",
      "df[\"col\"][row_indexer] = value\n",
      "\n",
      "Use `df.loc[row_indexer, \"col\"] = values` instead, to perform the assignment in a single step and ensure this keeps updating the original `df`.\n",
      "\n",
      "See the caveats in the documentation: https://pandas.pydata.org/pandas-docs/stable/user_guide/indexing.html#returning-a-view-versus-a-copy\n",
      "\n",
      "\n",
      "/Library/Frameworks/Python.framework/Versions/3.12/lib/python3.12/site-packages/fairlearn/metrics/_metric_frame.py:272: FutureWarning:\n",
      "\n",
      "ChainedAssignmentError: behaviour will change in pandas 3.0!\n",
      "You are setting values through chained assignment. Currently this works in certain cases, but when using Copy-on-Write (which will become the default behaviour in pandas 3.0) this will never work to update the original DataFrame or Series, because the intermediate object on which we are setting values will behave as a copy.\n",
      "A typical example is when you are setting values in a column of a DataFrame, like:\n",
      "\n",
      "df[\"col\"][row_indexer] = value\n",
      "\n",
      "Use `df.loc[row_indexer, \"col\"] = values` instead, to perform the assignment in a single step and ensure this keeps updating the original `df`.\n",
      "\n",
      "See the caveats in the documentation: https://pandas.pydata.org/pandas-docs/stable/user_guide/indexing.html#returning-a-view-versus-a-copy\n",
      "\n",
      "\n",
      "/Library/Frameworks/Python.framework/Versions/3.12/lib/python3.12/site-packages/fairlearn/metrics/_metric_frame.py:272: FutureWarning:\n",
      "\n",
      "ChainedAssignmentError: behaviour will change in pandas 3.0!\n",
      "You are setting values through chained assignment. Currently this works in certain cases, but when using Copy-on-Write (which will become the default behaviour in pandas 3.0) this will never work to update the original DataFrame or Series, because the intermediate object on which we are setting values will behave as a copy.\n",
      "A typical example is when you are setting values in a column of a DataFrame, like:\n",
      "\n",
      "df[\"col\"][row_indexer] = value\n",
      "\n",
      "Use `df.loc[row_indexer, \"col\"] = values` instead, to perform the assignment in a single step and ensure this keeps updating the original `df`.\n",
      "\n",
      "See the caveats in the documentation: https://pandas.pydata.org/pandas-docs/stable/user_guide/indexing.html#returning-a-view-versus-a-copy\n",
      "\n",
      "\n",
      "/Library/Frameworks/Python.framework/Versions/3.12/lib/python3.12/site-packages/fairlearn/metrics/_metric_frame.py:272: FutureWarning:\n",
      "\n",
      "ChainedAssignmentError: behaviour will change in pandas 3.0!\n",
      "You are setting values through chained assignment. Currently this works in certain cases, but when using Copy-on-Write (which will become the default behaviour in pandas 3.0) this will never work to update the original DataFrame or Series, because the intermediate object on which we are setting values will behave as a copy.\n",
      "A typical example is when you are setting values in a column of a DataFrame, like:\n",
      "\n",
      "df[\"col\"][row_indexer] = value\n",
      "\n",
      "Use `df.loc[row_indexer, \"col\"] = values` instead, to perform the assignment in a single step and ensure this keeps updating the original `df`.\n",
      "\n",
      "See the caveats in the documentation: https://pandas.pydata.org/pandas-docs/stable/user_guide/indexing.html#returning-a-view-versus-a-copy\n",
      "\n",
      "\n"
     ]
    }
   ],
   "source": [
    "from fairlearn.metrics import MetricFrame, true_positive_rate, false_positive_rate, selection_rate\n",
    "from sklearn.metrics import accuracy_score\n",
    "\n",
    "mf = MetricFrame(\n",
    "    metrics={\n",
    "        \"accuracy\": accuracy_score,\n",
    "        \"selection_rate\": selection_rate,\n",
    "        \"TPR\": true_positive_rate,\n",
    "        \"FPR\": false_positive_rate\n",
    "    },\n",
    "    y_true=y_test,\n",
    "    y_pred=y_pred_fair,\n",
    "    sensitive_features=X_test[\"subject_race\"]\n",
    ")\n",
    "\n",
    "print(mf.by_group)\n"
   ]
  },
  {
   "cell_type": "code",
   "execution_count": 40,
   "id": "522d6947",
   "metadata": {},
   "outputs": [
    {
     "data": {
      "image/png": "[encoded data removed]",
      "text/plain": [
       "<Figure size 800x250 with 3 Axes>"
      ]
     },
     "metadata": {},
     "output_type": "display_data"
    }
   ],
   "source": [
    "import shap\n",
    "import pandas as pd\n",
    "import matplotlib.pyplot as plt\n",
    "from sklearn.ensemble import RandomForestClassifier\n",
    "\n",
    "# STEP 1: Retrain a clean Random Forest model\n",
    "rf_clean = RandomForestClassifier(random_state=0, class_weight='balanced')\n",
    "rf_clean.fit(X_train_transformed, y_train)\n",
    "\n",
    "# STEP 2: Sample a background dataset (100 rows from training set)\n",
    "background = shap.utils.sample(X_train_transformed, 100, random_state=42)\n",
    "\n",
    "# STEP 3: Prepare SHAP TreeExplainer with interventional mode and background\n",
    "explainer = shap.TreeExplainer(\n",
    "    rf_clean,\n",
    "    data=background,\n",
    "    feature_perturbation=\"interventional\"\n",
    ")\n",
    "\n",
    "# STEP 4: Pick an instance that was predicted as \"searched\" (class 1)\n",
    "searched_indices = (y_pred_fair == 1)\n",
    "searched_sample = X_test_transformed[searched_indices][0:1]\n",
    "\n",
    "# STEP 5: Convert to DataFrame with correct feature names\n",
    "feature_names = preprocessor.get_feature_names_out()\n",
    "instance_df = pd.DataFrame(searched_sample, columns=feature_names)\n",
    "\n",
    "# STEP 6: Get SHAP values for one instance\n",
    "shap_values = explainer.shap_values(instance_df)\n",
    "\n",
    "# STEP 7: Build SHAP explanation manually\n",
    "explanation = shap.Explanation(\n",
    "    values=shap_values[0][0],                   # Single instance, binary classification\n",
    "    base_values=explainer.expected_value[0],    # Index this!\n",
    "    data=instance_df.iloc[0],\n",
    "    feature_names=feature_names\n",
    ")\n",
    "\n",
    "# STEP 8: Waterfall plot\n",
    "shap.plots.waterfall(explanation)\n",
    "\n",
    "\n"
   ]
  },
  {
   "cell_type": "markdown",
   "id": "2c1e2c27",
   "metadata": {},
   "source": [
    "### Fairness Analysis and Model Comparison\n",
    "\n",
    "This section compares the logistic regression and random forest models in terms of both fairness and performance. We compute key group fairness metrics using `fairlearn`, including Equal Opportunity Difference (TPR disparity) and Demographic Parity Difference (selection rate disparity) across racial groups. These are paired with standard performance metrics such as accuracy, F1 score, and ROC-AUC. Finally, fairness differences are visualized in bar plots to highlight disparities and assess which model offers a better trade-off between fairness and accuracy.\n"
   ]
  },
  {
   "cell_type": "code",
   "execution_count": 47,
   "id": "f4490332",
   "metadata": {},
   "outputs": [
    {
     "name": "stderr",
     "output_type": "stream",
     "text": [
      "/Library/Frameworks/Python.framework/Versions/3.12/lib/python3.12/site-packages/fairlearn/metrics/_metric_frame.py:272: FutureWarning:\n",
      "\n",
      "ChainedAssignmentError: behaviour will change in pandas 3.0!\n",
      "You are setting values through chained assignment. Currently this works in certain cases, but when using Copy-on-Write (which will become the default behaviour in pandas 3.0) this will never work to update the original DataFrame or Series, because the intermediate object on which we are setting values will behave as a copy.\n",
      "A typical example is when you are setting values in a column of a DataFrame, like:\n",
      "\n",
      "df[\"col\"][row_indexer] = value\n",
      "\n",
      "Use `df.loc[row_indexer, \"col\"] = values` instead, to perform the assignment in a single step and ensure this keeps updating the original `df`.\n",
      "\n",
      "See the caveats in the documentation: https://pandas.pydata.org/pandas-docs/stable/user_guide/indexing.html#returning-a-view-versus-a-copy\n",
      "\n",
      "\n",
      "/Library/Frameworks/Python.framework/Versions/3.12/lib/python3.12/site-packages/fairlearn/metrics/_metric_frame.py:272: FutureWarning:\n",
      "\n",
      "ChainedAssignmentError: behaviour will change in pandas 3.0!\n",
      "You are setting values through chained assignment. Currently this works in certain cases, but when using Copy-on-Write (which will become the default behaviour in pandas 3.0) this will never work to update the original DataFrame or Series, because the intermediate object on which we are setting values will behave as a copy.\n",
      "A typical example is when you are setting values in a column of a DataFrame, like:\n",
      "\n",
      "df[\"col\"][row_indexer] = value\n",
      "\n",
      "Use `df.loc[row_indexer, \"col\"] = values` instead, to perform the assignment in a single step and ensure this keeps updating the original `df`.\n",
      "\n",
      "See the caveats in the documentation: https://pandas.pydata.org/pandas-docs/stable/user_guide/indexing.html#returning-a-view-versus-a-copy\n",
      "\n",
      "\n",
      "/Library/Frameworks/Python.framework/Versions/3.12/lib/python3.12/site-packages/fairlearn/metrics/_metric_frame.py:272: FutureWarning:\n",
      "\n",
      "ChainedAssignmentError: behaviour will change in pandas 3.0!\n",
      "You are setting values through chained assignment. Currently this works in certain cases, but when using Copy-on-Write (which will become the default behaviour in pandas 3.0) this will never work to update the original DataFrame or Series, because the intermediate object on which we are setting values will behave as a copy.\n",
      "A typical example is when you are setting values in a column of a DataFrame, like:\n",
      "\n",
      "df[\"col\"][row_indexer] = value\n",
      "\n",
      "Use `df.loc[row_indexer, \"col\"] = values` instead, to perform the assignment in a single step and ensure this keeps updating the original `df`.\n",
      "\n",
      "See the caveats in the documentation: https://pandas.pydata.org/pandas-docs/stable/user_guide/indexing.html#returning-a-view-versus-a-copy\n",
      "\n",
      "\n",
      "/Library/Frameworks/Python.framework/Versions/3.12/lib/python3.12/site-packages/fairlearn/metrics/_metric_frame.py:272: FutureWarning:\n",
      "\n",
      "ChainedAssignmentError: behaviour will change in pandas 3.0!\n",
      "You are setting values through chained assignment. Currently this works in certain cases, but when using Copy-on-Write (which will become the default behaviour in pandas 3.0) this will never work to update the original DataFrame or Series, because the intermediate object on which we are setting values will behave as a copy.\n",
      "A typical example is when you are setting values in a column of a DataFrame, like:\n",
      "\n",
      "df[\"col\"][row_indexer] = value\n",
      "\n",
      "Use `df.loc[row_indexer, \"col\"] = values` instead, to perform the assignment in a single step and ensure this keeps updating the original `df`.\n",
      "\n",
      "See the caveats in the documentation: https://pandas.pydata.org/pandas-docs/stable/user_guide/indexing.html#returning-a-view-versus-a-copy\n",
      "\n",
      "\n",
      "/Library/Frameworks/Python.framework/Versions/3.12/lib/python3.12/site-packages/fairlearn/metrics/_metric_frame.py:272: FutureWarning:\n",
      "\n",
      "ChainedAssignmentError: behaviour will change in pandas 3.0!\n",
      "You are setting values through chained assignment. Currently this works in certain cases, but when using Copy-on-Write (which will become the default behaviour in pandas 3.0) this will never work to update the original DataFrame or Series, because the intermediate object on which we are setting values will behave as a copy.\n",
      "A typical example is when you are setting values in a column of a DataFrame, like:\n",
      "\n",
      "df[\"col\"][row_indexer] = value\n",
      "\n",
      "Use `df.loc[row_indexer, \"col\"] = values` instead, to perform the assignment in a single step and ensure this keeps updating the original `df`.\n",
      "\n",
      "See the caveats in the documentation: https://pandas.pydata.org/pandas-docs/stable/user_guide/indexing.html#returning-a-view-versus-a-copy\n",
      "\n",
      "\n",
      "/Library/Frameworks/Python.framework/Versions/3.12/lib/python3.12/site-packages/fairlearn/metrics/_metric_frame.py:272: FutureWarning:\n",
      "\n",
      "ChainedAssignmentError: behaviour will change in pandas 3.0!\n",
      "You are setting values through chained assignment. Currently this works in certain cases, but when using Copy-on-Write (which will become the default behaviour in pandas 3.0) this will never work to update the original DataFrame or Series, because the intermediate object on which we are setting values will behave as a copy.\n",
      "A typical example is when you are setting values in a column of a DataFrame, like:\n",
      "\n",
      "df[\"col\"][row_indexer] = value\n",
      "\n",
      "Use `df.loc[row_indexer, \"col\"] = values` instead, to perform the assignment in a single step and ensure this keeps updating the original `df`.\n",
      "\n",
      "See the caveats in the documentation: https://pandas.pydata.org/pandas-docs/stable/user_guide/indexing.html#returning-a-view-versus-a-copy\n",
      "\n",
      "\n",
      "/Library/Frameworks/Python.framework/Versions/3.12/lib/python3.12/site-packages/fairlearn/metrics/_metric_frame.py:272: FutureWarning:\n",
      "\n",
      "ChainedAssignmentError: behaviour will change in pandas 3.0!\n",
      "You are setting values through chained assignment. Currently this works in certain cases, but when using Copy-on-Write (which will become the default behaviour in pandas 3.0) this will never work to update the original DataFrame or Series, because the intermediate object on which we are setting values will behave as a copy.\n",
      "A typical example is when you are setting values in a column of a DataFrame, like:\n",
      "\n",
      "df[\"col\"][row_indexer] = value\n",
      "\n",
      "Use `df.loc[row_indexer, \"col\"] = values` instead, to perform the assignment in a single step and ensure this keeps updating the original `df`.\n",
      "\n",
      "See the caveats in the documentation: https://pandas.pydata.org/pandas-docs/stable/user_guide/indexing.html#returning-a-view-versus-a-copy\n",
      "\n",
      "\n",
      "/Library/Frameworks/Python.framework/Versions/3.12/lib/python3.12/site-packages/fairlearn/metrics/_metric_frame.py:272: FutureWarning:\n",
      "\n",
      "ChainedAssignmentError: behaviour will change in pandas 3.0!\n",
      "You are setting values through chained assignment. Currently this works in certain cases, but when using Copy-on-Write (which will become the default behaviour in pandas 3.0) this will never work to update the original DataFrame or Series, because the intermediate object on which we are setting values will behave as a copy.\n",
      "A typical example is when you are setting values in a column of a DataFrame, like:\n",
      "\n",
      "df[\"col\"][row_indexer] = value\n",
      "\n",
      "Use `df.loc[row_indexer, \"col\"] = values` instead, to perform the assignment in a single step and ensure this keeps updating the original `df`.\n",
      "\n",
      "See the caveats in the documentation: https://pandas.pydata.org/pandas-docs/stable/user_guide/indexing.html#returning-a-view-versus-a-copy\n",
      "\n",
      "\n",
      "/Library/Frameworks/Python.framework/Versions/3.12/lib/python3.12/site-packages/fairlearn/metrics/_metric_frame.py:272: FutureWarning:\n",
      "\n",
      "ChainedAssignmentError: behaviour will change in pandas 3.0!\n",
      "You are setting values through chained assignment. Currently this works in certain cases, but when using Copy-on-Write (which will become the default behaviour in pandas 3.0) this will never work to update the original DataFrame or Series, because the intermediate object on which we are setting values will behave as a copy.\n",
      "A typical example is when you are setting values in a column of a DataFrame, like:\n",
      "\n",
      "df[\"col\"][row_indexer] = value\n",
      "\n",
      "Use `df.loc[row_indexer, \"col\"] = values` instead, to perform the assignment in a single step and ensure this keeps updating the original `df`.\n",
      "\n",
      "See the caveats in the documentation: https://pandas.pydata.org/pandas-docs/stable/user_guide/indexing.html#returning-a-view-versus-a-copy\n",
      "\n",
      "\n",
      "/Library/Frameworks/Python.framework/Versions/3.12/lib/python3.12/site-packages/fairlearn/metrics/_metric_frame.py:272: FutureWarning:\n",
      "\n",
      "ChainedAssignmentError: behaviour will change in pandas 3.0!\n",
      "You are setting values through chained assignment. Currently this works in certain cases, but when using Copy-on-Write (which will become the default behaviour in pandas 3.0) this will never work to update the original DataFrame or Series, because the intermediate object on which we are setting values will behave as a copy.\n",
      "A typical example is when you are setting values in a column of a DataFrame, like:\n",
      "\n",
      "df[\"col\"][row_indexer] = value\n",
      "\n",
      "Use `df.loc[row_indexer, \"col\"] = values` instead, to perform the assignment in a single step and ensure this keeps updating the original `df`.\n",
      "\n",
      "See the caveats in the documentation: https://pandas.pydata.org/pandas-docs/stable/user_guide/indexing.html#returning-a-view-versus-a-copy\n",
      "\n",
      "\n",
      "/Library/Frameworks/Python.framework/Versions/3.12/lib/python3.12/site-packages/fairlearn/metrics/_metric_frame.py:272: FutureWarning:\n",
      "\n",
      "ChainedAssignmentError: behaviour will change in pandas 3.0!\n",
      "You are setting values through chained assignment. Currently this works in certain cases, but when using Copy-on-Write (which will become the default behaviour in pandas 3.0) this will never work to update the original DataFrame or Series, because the intermediate object on which we are setting values will behave as a copy.\n",
      "A typical example is when you are setting values in a column of a DataFrame, like:\n",
      "\n",
      "df[\"col\"][row_indexer] = value\n",
      "\n",
      "Use `df.loc[row_indexer, \"col\"] = values` instead, to perform the assignment in a single step and ensure this keeps updating the original `df`.\n",
      "\n",
      "See the caveats in the documentation: https://pandas.pydata.org/pandas-docs/stable/user_guide/indexing.html#returning-a-view-versus-a-copy\n",
      "\n",
      "\n",
      "/Library/Frameworks/Python.framework/Versions/3.12/lib/python3.12/site-packages/fairlearn/metrics/_metric_frame.py:272: FutureWarning:\n",
      "\n",
      "ChainedAssignmentError: behaviour will change in pandas 3.0!\n",
      "You are setting values through chained assignment. Currently this works in certain cases, but when using Copy-on-Write (which will become the default behaviour in pandas 3.0) this will never work to update the original DataFrame or Series, because the intermediate object on which we are setting values will behave as a copy.\n",
      "A typical example is when you are setting values in a column of a DataFrame, like:\n",
      "\n",
      "df[\"col\"][row_indexer] = value\n",
      "\n",
      "Use `df.loc[row_indexer, \"col\"] = values` instead, to perform the assignment in a single step and ensure this keeps updating the original `df`.\n",
      "\n",
      "See the caveats in the documentation: https://pandas.pydata.org/pandas-docs/stable/user_guide/indexing.html#returning-a-view-versus-a-copy\n",
      "\n",
      "\n",
      "/Library/Frameworks/Python.framework/Versions/3.12/lib/python3.12/site-packages/fairlearn/metrics/_metric_frame.py:272: FutureWarning:\n",
      "\n",
      "ChainedAssignmentError: behaviour will change in pandas 3.0!\n",
      "You are setting values through chained assignment. Currently this works in certain cases, but when using Copy-on-Write (which will become the default behaviour in pandas 3.0) this will never work to update the original DataFrame or Series, because the intermediate object on which we are setting values will behave as a copy.\n",
      "A typical example is when you are setting values in a column of a DataFrame, like:\n",
      "\n",
      "df[\"col\"][row_indexer] = value\n",
      "\n",
      "Use `df.loc[row_indexer, \"col\"] = values` instead, to perform the assignment in a single step and ensure this keeps updating the original `df`.\n",
      "\n",
      "See the caveats in the documentation: https://pandas.pydata.org/pandas-docs/stable/user_guide/indexing.html#returning-a-view-versus-a-copy\n",
      "\n",
      "\n",
      "/Library/Frameworks/Python.framework/Versions/3.12/lib/python3.12/site-packages/fairlearn/metrics/_metric_frame.py:272: FutureWarning:\n",
      "\n",
      "ChainedAssignmentError: behaviour will change in pandas 3.0!\n",
      "You are setting values through chained assignment. Currently this works in certain cases, but when using Copy-on-Write (which will become the default behaviour in pandas 3.0) this will never work to update the original DataFrame or Series, because the intermediate object on which we are setting values will behave as a copy.\n",
      "A typical example is when you are setting values in a column of a DataFrame, like:\n",
      "\n",
      "df[\"col\"][row_indexer] = value\n",
      "\n",
      "Use `df.loc[row_indexer, \"col\"] = values` instead, to perform the assignment in a single step and ensure this keeps updating the original `df`.\n",
      "\n",
      "See the caveats in the documentation: https://pandas.pydata.org/pandas-docs/stable/user_guide/indexing.html#returning-a-view-versus-a-copy\n",
      "\n",
      "\n",
      "/Library/Frameworks/Python.framework/Versions/3.12/lib/python3.12/site-packages/fairlearn/metrics/_metric_frame.py:272: FutureWarning:\n",
      "\n",
      "ChainedAssignmentError: behaviour will change in pandas 3.0!\n",
      "You are setting values through chained assignment. Currently this works in certain cases, but when using Copy-on-Write (which will become the default behaviour in pandas 3.0) this will never work to update the original DataFrame or Series, because the intermediate object on which we are setting values will behave as a copy.\n",
      "A typical example is when you are setting values in a column of a DataFrame, like:\n",
      "\n",
      "df[\"col\"][row_indexer] = value\n",
      "\n",
      "Use `df.loc[row_indexer, \"col\"] = values` instead, to perform the assignment in a single step and ensure this keeps updating the original `df`.\n",
      "\n",
      "See the caveats in the documentation: https://pandas.pydata.org/pandas-docs/stable/user_guide/indexing.html#returning-a-view-versus-a-copy\n",
      "\n",
      "\n",
      "/Library/Frameworks/Python.framework/Versions/3.12/lib/python3.12/site-packages/fairlearn/metrics/_metric_frame.py:272: FutureWarning:\n",
      "\n",
      "ChainedAssignmentError: behaviour will change in pandas 3.0!\n",
      "You are setting values through chained assignment. Currently this works in certain cases, but when using Copy-on-Write (which will become the default behaviour in pandas 3.0) this will never work to update the original DataFrame or Series, because the intermediate object on which we are setting values will behave as a copy.\n",
      "A typical example is when you are setting values in a column of a DataFrame, like:\n",
      "\n",
      "df[\"col\"][row_indexer] = value\n",
      "\n",
      "Use `df.loc[row_indexer, \"col\"] = values` instead, to perform the assignment in a single step and ensure this keeps updating the original `df`.\n",
      "\n",
      "See the caveats in the documentation: https://pandas.pydata.org/pandas-docs/stable/user_guide/indexing.html#returning-a-view-versus-a-copy\n",
      "\n",
      "\n",
      "/Library/Frameworks/Python.framework/Versions/3.12/lib/python3.12/site-packages/fairlearn/metrics/_metric_frame.py:272: FutureWarning:\n",
      "\n",
      "ChainedAssignmentError: behaviour will change in pandas 3.0!\n",
      "You are setting values through chained assignment. Currently this works in certain cases, but when using Copy-on-Write (which will become the default behaviour in pandas 3.0) this will never work to update the original DataFrame or Series, because the intermediate object on which we are setting values will behave as a copy.\n",
      "A typical example is when you are setting values in a column of a DataFrame, like:\n",
      "\n",
      "df[\"col\"][row_indexer] = value\n",
      "\n",
      "Use `df.loc[row_indexer, \"col\"] = values` instead, to perform the assignment in a single step and ensure this keeps updating the original `df`.\n",
      "\n",
      "See the caveats in the documentation: https://pandas.pydata.org/pandas-docs/stable/user_guide/indexing.html#returning-a-view-versus-a-copy\n",
      "\n",
      "\n",
      "/Library/Frameworks/Python.framework/Versions/3.12/lib/python3.12/site-packages/fairlearn/metrics/_metric_frame.py:272: FutureWarning:\n",
      "\n",
      "ChainedAssignmentError: behaviour will change in pandas 3.0!\n",
      "You are setting values through chained assignment. Currently this works in certain cases, but when using Copy-on-Write (which will become the default behaviour in pandas 3.0) this will never work to update the original DataFrame or Series, because the intermediate object on which we are setting values will behave as a copy.\n",
      "A typical example is when you are setting values in a column of a DataFrame, like:\n",
      "\n",
      "df[\"col\"][row_indexer] = value\n",
      "\n",
      "Use `df.loc[row_indexer, \"col\"] = values` instead, to perform the assignment in a single step and ensure this keeps updating the original `df`.\n",
      "\n",
      "See the caveats in the documentation: https://pandas.pydata.org/pandas-docs/stable/user_guide/indexing.html#returning-a-view-versus-a-copy\n",
      "\n",
      "\n",
      "/Library/Frameworks/Python.framework/Versions/3.12/lib/python3.12/site-packages/fairlearn/metrics/_metric_frame.py:272: FutureWarning:\n",
      "\n",
      "ChainedAssignmentError: behaviour will change in pandas 3.0!\n",
      "You are setting values through chained assignment. Currently this works in certain cases, but when using Copy-on-Write (which will become the default behaviour in pandas 3.0) this will never work to update the original DataFrame or Series, because the intermediate object on which we are setting values will behave as a copy.\n",
      "A typical example is when you are setting values in a column of a DataFrame, like:\n",
      "\n",
      "df[\"col\"][row_indexer] = value\n",
      "\n",
      "Use `df.loc[row_indexer, \"col\"] = values` instead, to perform the assignment in a single step and ensure this keeps updating the original `df`.\n",
      "\n",
      "See the caveats in the documentation: https://pandas.pydata.org/pandas-docs/stable/user_guide/indexing.html#returning-a-view-versus-a-copy\n",
      "\n",
      "\n",
      "/Library/Frameworks/Python.framework/Versions/3.12/lib/python3.12/site-packages/fairlearn/metrics/_metric_frame.py:272: FutureWarning:\n",
      "\n",
      "ChainedAssignmentError: behaviour will change in pandas 3.0!\n",
      "You are setting values through chained assignment. Currently this works in certain cases, but when using Copy-on-Write (which will become the default behaviour in pandas 3.0) this will never work to update the original DataFrame or Series, because the intermediate object on which we are setting values will behave as a copy.\n",
      "A typical example is when you are setting values in a column of a DataFrame, like:\n",
      "\n",
      "df[\"col\"][row_indexer] = value\n",
      "\n",
      "Use `df.loc[row_indexer, \"col\"] = values` instead, to perform the assignment in a single step and ensure this keeps updating the original `df`.\n",
      "\n",
      "See the caveats in the documentation: https://pandas.pydata.org/pandas-docs/stable/user_guide/indexing.html#returning-a-view-versus-a-copy\n",
      "\n",
      "\n",
      "/Library/Frameworks/Python.framework/Versions/3.12/lib/python3.12/site-packages/fairlearn/metrics/_metric_frame.py:272: FutureWarning:\n",
      "\n",
      "ChainedAssignmentError: behaviour will change in pandas 3.0!\n",
      "You are setting values through chained assignment. Currently this works in certain cases, but when using Copy-on-Write (which will become the default behaviour in pandas 3.0) this will never work to update the original DataFrame or Series, because the intermediate object on which we are setting values will behave as a copy.\n",
      "A typical example is when you are setting values in a column of a DataFrame, like:\n",
      "\n",
      "df[\"col\"][row_indexer] = value\n",
      "\n",
      "Use `df.loc[row_indexer, \"col\"] = values` instead, to perform the assignment in a single step and ensure this keeps updating the original `df`.\n",
      "\n",
      "See the caveats in the documentation: https://pandas.pydata.org/pandas-docs/stable/user_guide/indexing.html#returning-a-view-versus-a-copy\n",
      "\n",
      "\n",
      "/Library/Frameworks/Python.framework/Versions/3.12/lib/python3.12/site-packages/fairlearn/metrics/_metric_frame.py:272: FutureWarning:\n",
      "\n",
      "ChainedAssignmentError: behaviour will change in pandas 3.0!\n",
      "You are setting values through chained assignment. Currently this works in certain cases, but when using Copy-on-Write (which will become the default behaviour in pandas 3.0) this will never work to update the original DataFrame or Series, because the intermediate object on which we are setting values will behave as a copy.\n",
      "A typical example is when you are setting values in a column of a DataFrame, like:\n",
      "\n",
      "df[\"col\"][row_indexer] = value\n",
      "\n",
      "Use `df.loc[row_indexer, \"col\"] = values` instead, to perform the assignment in a single step and ensure this keeps updating the original `df`.\n",
      "\n",
      "See the caveats in the documentation: https://pandas.pydata.org/pandas-docs/stable/user_guide/indexing.html#returning-a-view-versus-a-copy\n",
      "\n",
      "\n",
      "/Library/Frameworks/Python.framework/Versions/3.12/lib/python3.12/site-packages/fairlearn/metrics/_metric_frame.py:272: FutureWarning:\n",
      "\n",
      "ChainedAssignmentError: behaviour will change in pandas 3.0!\n",
      "You are setting values through chained assignment. Currently this works in certain cases, but when using Copy-on-Write (which will become the default behaviour in pandas 3.0) this will never work to update the original DataFrame or Series, because the intermediate object on which we are setting values will behave as a copy.\n",
      "A typical example is when you are setting values in a column of a DataFrame, like:\n",
      "\n",
      "df[\"col\"][row_indexer] = value\n",
      "\n",
      "Use `df.loc[row_indexer, \"col\"] = values` instead, to perform the assignment in a single step and ensure this keeps updating the original `df`.\n",
      "\n",
      "See the caveats in the documentation: https://pandas.pydata.org/pandas-docs/stable/user_guide/indexing.html#returning-a-view-versus-a-copy\n",
      "\n",
      "\n",
      "/Library/Frameworks/Python.framework/Versions/3.12/lib/python3.12/site-packages/fairlearn/metrics/_metric_frame.py:272: FutureWarning:\n",
      "\n",
      "ChainedAssignmentError: behaviour will change in pandas 3.0!\n",
      "You are setting values through chained assignment. Currently this works in certain cases, but when using Copy-on-Write (which will become the default behaviour in pandas 3.0) this will never work to update the original DataFrame or Series, because the intermediate object on which we are setting values will behave as a copy.\n",
      "A typical example is when you are setting values in a column of a DataFrame, like:\n",
      "\n",
      "df[\"col\"][row_indexer] = value\n",
      "\n",
      "Use `df.loc[row_indexer, \"col\"] = values` instead, to perform the assignment in a single step and ensure this keeps updating the original `df`.\n",
      "\n",
      "See the caveats in the documentation: https://pandas.pydata.org/pandas-docs/stable/user_guide/indexing.html#returning-a-view-versus-a-copy\n",
      "\n",
      "\n"
     ]
    },
    {
     "name": "stdout",
     "output_type": "stream",
     "text": [
      "Logistic Regression EO Difference: 0.3056\n",
      "Random Forest EO Difference: 0.0511\n",
      "Logistic Regression DP Difference: 0.1900\n",
      "Random Forest DP Difference: 0.0243\n",
      "\n",
      "Performance Metrics:\n",
      "Logistic Regression:\n",
      "Accuracy: 0.82\n",
      "F1 Score: 0.10\n",
      "ROC-AUC: 0.58\n",
      "\n",
      "Random Forest:\n",
      "Accuracy: 0.89\n",
      "F1 Score: 0.08\n",
      "ROC-AUC: 0.53\n"
     ]
    },
    {
     "data": {
      "image/png": "[encoded data removed]",
      "text/plain": [
       "<Figure size 640x480 with 1 Axes>"
      ]
     },
     "metadata": {},
     "output_type": "display_data"
    },
    {
     "data": {
      "image/png": "[encoded data removed]",
      "text/plain": [
       "<Figure size 640x480 with 1 Axes>"
      ]
     },
     "metadata": {},
     "output_type": "display_data"
    }
   ],
   "source": [
    "# Fairness Analysis and Model Comparison\n",
    "\n",
    "# 1. Evaluate Fairness Metrics\n",
    "from fairlearn.metrics import MetricFrame, selection_rate, true_positive_rate, false_positive_rate\n",
    "from sklearn.metrics import accuracy_score, f1_score, roc_auc_score\n",
    "\n",
    "# Logistic Regression Fairness Metrics\n",
    "metric_frame_lr = MetricFrame(\n",
    "    metrics={\n",
    "        'accuracy': accuracy_score,\n",
    "        'selection_rate': selection_rate,\n",
    "        'TPR': true_positive_rate,\n",
    "        'FPR': false_positive_rate\n",
    "    },\n",
    "    y_true=y_test,\n",
    "    y_pred=y_pred,\n",
    "    sensitive_features=X_test['subject_race']\n",
    ")\n",
    "\n",
    "# Random Forest Fairness Metrics\n",
    "metric_frame_rf = MetricFrame(\n",
    "    metrics={\n",
    "        'accuracy': accuracy_score,\n",
    "        'selection_rate': selection_rate,\n",
    "        'TPR': true_positive_rate,\n",
    "        'FPR': false_positive_rate\n",
    "    },\n",
    "    y_true=y_test,\n",
    "    y_pred=y_pred_fair,\n",
    "    sensitive_features=X_test['subject_race']\n",
    ")\n",
    "\n",
    "# 2. Calculate Equal Opportunity Difference\n",
    "eo_diff_lr = metric_frame_lr.by_group[\"TPR\"].max() - metric_frame_lr.by_group[\"TPR\"].min()\n",
    "eo_diff_rf = metric_frame_rf.by_group[\"TPR\"].max() - metric_frame_rf.by_group[\"TPR\"].min()\n",
    "\n",
    "print(f\"Logistic Regression EO Difference: {eo_diff_lr:.4f}\")\n",
    "print(f\"Random Forest EO Difference: {eo_diff_rf:.4f}\")\n",
    "\n",
    "# 3. Calculate Demographic Parity Difference\n",
    "dp_diff_lr = metric_frame_lr.by_group[\"selection_rate\"].max() - metric_frame_lr.by_group[\"selection_rate\"].min()\n",
    "dp_diff_rf = metric_frame_rf.by_group[\"selection_rate\"].max() - metric_frame_rf.by_group[\"selection_rate\"].min()\n",
    "\n",
    "print(f\"Logistic Regression DP Difference: {dp_diff_lr:.4f}\")\n",
    "print(f\"Random Forest DP Difference: {dp_diff_rf:.4f}\")\n",
    "\n",
    "# 4. Compare Performance Metrics\n",
    "print(\"\\nPerformance Metrics:\")\n",
    "\n",
    "# Logistic Regression\n",
    "print(\"Logistic Regression:\")\n",
    "print(f\"Accuracy: {accuracy_score(y_test, y_pred):.2f}\")\n",
    "print(f\"F1 Score: {f1_score(y_test, y_pred):.2f}\")\n",
    "print(f\"ROC-AUC: {roc_auc_score(y_test, y_pred):.2f}\")\n",
    "\n",
    "# Random Forest\n",
    "print(\"\\nRandom Forest:\")\n",
    "print(f\"Accuracy: {accuracy_score(y_test, y_pred_fair):.2f}\")\n",
    "print(f\"F1 Score: {f1_score(y_test, y_pred_fair):.2f}\")\n",
    "print(f\"ROC-AUC: {roc_auc_score(y_test, y_pred_fair):.2f}\")\n",
    "\n",
    "# 5. Visualize Fairness Metrics\n",
    "import matplotlib.pyplot as plt\n",
    "\n",
    "# Plot Equal Opportunity Difference\n",
    "plt.bar(['Logistic Regression', 'Random Forest'], [eo_diff_lr, eo_diff_rf], color=['blue', 'green'])\n",
    "plt.title('Equal Opportunity Difference')\n",
    "plt.ylabel('Difference')\n",
    "plt.show()\n",
    "\n",
    "# Plot Demographic Parity Difference\n",
    "plt.bar(['Logistic Regression', 'Random Forest'], [dp_diff_lr, dp_diff_rf], color=['blue', 'green'])\n",
    "plt.title('Demographic Parity Difference')\n",
    "plt.ylabel('Difference')\n",
    "plt.show()\n"
   ]
  },
  {
   "cell_type": "markdown",
   "id": "de4ba0c5",
   "metadata": {},
   "source": [
    "### Project Overview – AI Fairness and Interpretability\n",
    "\n",
    "This notebook investigates fairness and interpretability in predictive policing using the Nashville Police Stops dataset. The objective is to assess whether demographic characteristics—particularly race—impact the likelihood of a driver being searched during a traffic stop, and to explore how machine learning models can be trained and evaluated in a fairness-aware manner.\n",
    "\n",
    "The notebook is structured as follows:\n",
    "\n",
    "1. **Exploratory Data Analysis (EDA):**  \n",
    "   We begin by analyzing search rates, hit rates, and arrest rates by race and sex. We also visualize the geographic distribution of searches to understand spatial disparities in police behavior.\n",
    "\n",
    "2. **Preprocessing and Feature Engineering:**  \n",
    "   We clean and preprocess the dataset by handling missing values, extracting relevant features (e.g., stop hour, is_minor), and encoding categorical variables to prepare the data for modeling.\n",
    "\n",
    "3. **Initial Model – Explainable Boosting Machine (EBM):**  \n",
    "   EBM was selected initially for its high interpretability. However, due to technical issues such as slow training times and limited integration with fairness tools, we decided not to use it in the final workflow.\n",
    "\n",
    "4. **Final Models – Logistic Regression and Random Forest:**  \n",
    "   We proceeded with:\n",
    "   - **Logistic Regression**, a transparent model whose coefficients are easy to interpret.\n",
    "   - **Random Forest**, which offers better performance and is compatible with SHAP, a tool for model explainability.\n",
    "\n",
    "5. **Fairness Evaluation:**  \n",
    "   Using `fairlearn`, we computed group fairness metrics such as accuracy, selection rate, true positive rate (TPR), and false positive rate (FPR) by subject race. We also calculated:\n",
    "   - **Equal Opportunity Difference** – difference in TPR across groups.\n",
    "   - **Demographic Parity Difference** – difference in selection rate across groups.\n",
    "\n",
    "6. **Fairness Mitigation:**  \n",
    "   To address disparities, we used the `ExponentiatedGradient` algorithm with a Demographic Parity constraint. This mitigation strategy reduced disparity metrics significantly while maintaining acceptable predictive performance.\n",
    "\n",
    "7. **Interpretability with SHAP:**  \n",
    "   SHAP was used to interpret the Random Forest model:\n",
    "   - **Global explanation (summary plot)** to identify overall feature importance.\n",
    "   - **Local explanation (waterfall plot)** to analyze individual predictions and understand how features like race and location influenced specific decisions.\n",
    "\n",
    "8. **Model Comparison and Conclusion:**  \n",
    "   We compared both models in terms of fairness and performance. The Random Forest model, when mitigated, showed reduced disparities in TPR and selection rate across races. Logistic Regression offered simpler interpretability but larger fairness gaps. The combined use of fairness metrics and SHAP explanations provided both ethical and technical insight into the decision-making processes of the models.\n",
    "\n",
    "This notebook demonstrates a complete workflow for fairness-aware machine learning, from bias detection to mitigation and interpretation.\n"
   ]
  }
 ],
 "metadata": {
  "kernelspec": {
   "display_name": "Python 3",
   "language": "python",
   "name": "python3"
  },
  "language_info": {
   "codemirror_mode": {
    "name": "ipython",
    "version": 3
   },
   "file_extension": ".py",
   "mimetype": "text/x-python",
   "name": "python",
   "nbconvert_exporter": "python",
   "pygments_lexer": "ipython3",
   "version": "3.12.4"
  }
 },
 "nbformat": 4,
 "nbformat_minor": 5
}
